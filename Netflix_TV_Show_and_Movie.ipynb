{
  "cells": [
    {
      "cell_type": "markdown",
      "metadata": {
        "id": "view-in-github",
        "colab_type": "text"
      },
      "source": [
        "<a href=\"https://colab.research.google.com/github/lyd96/Netflix-TV-Show-Movies/blob/main/Netflix_TV_Show_and_Movie.ipynb\" target=\"_parent\"><img src=\"https://colab.research.google.com/assets/colab-badge.svg\" alt=\"Open In Colab\"/></a>"
      ]
    },
    {
      "cell_type": "code",
      "execution_count": null,
      "metadata": {
        "colab": {
          "base_uri": "https://localhost:8080/",
          "height": 73,
          "resources": {
            "http://localhost:8080/nbextensions/google.colab/files.js": {
              "data": "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",
              "headers": [
                [
                  "content-type",
                  "application/javascript"
                ]
              ],
              "ok": true,
              "status": 200,
              "status_text": ""
            }
          }
        },
        "id": "eZG-CNJSjiAQ",
        "outputId": "7d7206eb-15cf-4c37-e115-9235cb08aae6"
      },
      "outputs": [
        {
          "output_type": "display_data",
          "data": {
            "text/plain": [
              "<IPython.core.display.HTML object>"
            ],
            "text/html": [
              "\n",
              "     <input type=\"file\" id=\"files-f8a31b33-c443-476f-9138-470db9868e21\" name=\"files[]\" multiple disabled\n",
              "        style=\"border:none\" />\n",
              "     <output id=\"result-f8a31b33-c443-476f-9138-470db9868e21\">\n",
              "      Upload widget is only available when the cell has been executed in the\n",
              "      current browser session. Please rerun this cell to enable.\n",
              "      </output>\n",
              "      <script src=\"/nbextensions/google.colab/files.js\"></script> "
            ]
          },
          "metadata": {}
        },
        {
          "output_type": "stream",
          "name": "stdout",
          "text": [
            "Saving netflix_titles.csv to netflix_titles.csv\n"
          ]
        }
      ],
      "source": [
        "from google.colab import files\n",
        "upload = files.upload()"
      ]
    },
    {
      "cell_type": "code",
      "execution_count": null,
      "metadata": {
        "colab": {
          "base_uri": "https://localhost:8080/"
        },
        "id": "_17XXMLLlp89",
        "outputId": "13346a2b-3df2-4473-b058-f06f149506f9"
      },
      "outputs": [
        {
          "output_type": "stream",
          "name": "stdout",
          "text": [
            "     show_id     type                  title         director  \\\n",
            "0         s1    Movie   Dick Johnson Is Dead  Kirsten Johnson   \n",
            "1         s2  TV Show          Blood & Water              NaN   \n",
            "2         s3  TV Show              Ganglands  Julien Leclercq   \n",
            "3         s4  TV Show  Jailbirds New Orleans              NaN   \n",
            "4         s5  TV Show           Kota Factory              NaN   \n",
            "...      ...      ...                    ...              ...   \n",
            "8802   s8803    Movie                 Zodiac    David Fincher   \n",
            "8803   s8804  TV Show            Zombie Dumb              NaN   \n",
            "8804   s8805    Movie             Zombieland  Ruben Fleischer   \n",
            "8805   s8806    Movie                   Zoom     Peter Hewitt   \n",
            "8806   s8807    Movie                 Zubaan      Mozez Singh   \n",
            "\n",
            "                                                   cast        country  \\\n",
            "0                                                   NaN  United States   \n",
            "1     Ama Qamata, Khosi Ngema, Gail Mabalane, Thaban...   South Africa   \n",
            "2     Sami Bouajila, Tracy Gotoas, Samuel Jouy, Nabi...            NaN   \n",
            "3                                                   NaN            NaN   \n",
            "4     Mayur More, Jitendra Kumar, Ranjan Raj, Alam K...          India   \n",
            "...                                                 ...            ...   \n",
            "8802  Mark Ruffalo, Jake Gyllenhaal, Robert Downey J...  United States   \n",
            "8803                                                NaN            NaN   \n",
            "8804  Jesse Eisenberg, Woody Harrelson, Emma Stone, ...  United States   \n",
            "8805  Tim Allen, Courteney Cox, Chevy Chase, Kate Ma...  United States   \n",
            "8806  Vicky Kaushal, Sarah-Jane Dias, Raaghav Chanan...          India   \n",
            "\n",
            "              date_added  release_year rating   duration  \\\n",
            "0     September 25, 2021          2020  PG-13     90 min   \n",
            "1     September 24, 2021          2021  TV-MA  2 Seasons   \n",
            "2     September 24, 2021          2021  TV-MA   1 Season   \n",
            "3     September 24, 2021          2021  TV-MA   1 Season   \n",
            "4     September 24, 2021          2021  TV-MA  2 Seasons   \n",
            "...                  ...           ...    ...        ...   \n",
            "8802   November 20, 2019          2007      R    158 min   \n",
            "8803        July 1, 2019          2018  TV-Y7  2 Seasons   \n",
            "8804    November 1, 2019          2009      R     88 min   \n",
            "8805    January 11, 2020          2006     PG     88 min   \n",
            "8806       March 2, 2019          2015  TV-14    111 min   \n",
            "\n",
            "                                              listed_in  \\\n",
            "0                                         Documentaries   \n",
            "1       International TV Shows, TV Dramas, TV Mysteries   \n",
            "2     Crime TV Shows, International TV Shows, TV Act...   \n",
            "3                                Docuseries, Reality TV   \n",
            "4     International TV Shows, Romantic TV Shows, TV ...   \n",
            "...                                                 ...   \n",
            "8802                     Cult Movies, Dramas, Thrillers   \n",
            "8803             Kids' TV, Korean TV Shows, TV Comedies   \n",
            "8804                            Comedies, Horror Movies   \n",
            "8805                 Children & Family Movies, Comedies   \n",
            "8806     Dramas, International Movies, Music & Musicals   \n",
            "\n",
            "                                            description  \n",
            "0     As her father nears the end of his life, filmm...  \n",
            "1     After crossing paths at a party, a Cape Town t...  \n",
            "2     To protect his family from a powerful drug lor...  \n",
            "3     Feuds, flirtations and toilet talk go down amo...  \n",
            "4     In a city of coaching centers known to train I...  \n",
            "...                                                 ...  \n",
            "8802  A political cartoonist, a crime reporter and a...  \n",
            "8803  While living alone in a spooky town, a young g...  \n",
            "8804  Looking to survive in a world taken over by zo...  \n",
            "8805  Dragged from civilian life, a former superhero...  \n",
            "8806  A scrappy but poor boy worms his way into a ty...  \n",
            "\n",
            "[8807 rows x 12 columns]\n"
          ]
        }
      ],
      "source": [
        "import pandas as pd\n",
        "netflix = pd.read_csv('netflix_titles.csv')\n",
        "print(netflix)"
      ]
    },
    {
      "cell_type": "code",
      "source": [
        "netflix.head()"
      ],
      "metadata": {
        "colab": {
          "base_uri": "https://localhost:8080/",
          "height": 406
        },
        "id": "WGWx5JtF0Tk7",
        "outputId": "e4224f13-712a-4940-e198-358115327d80"
      },
      "execution_count": null,
      "outputs": [
        {
          "output_type": "execute_result",
          "data": {
            "text/plain": [
              "  show_id     type                  title         director  \\\n",
              "0      s1    Movie   Dick Johnson Is Dead  Kirsten Johnson   \n",
              "1      s2  TV Show          Blood & Water              NaN   \n",
              "2      s3  TV Show              Ganglands  Julien Leclercq   \n",
              "3      s4  TV Show  Jailbirds New Orleans              NaN   \n",
              "4      s5  TV Show           Kota Factory              NaN   \n",
              "\n",
              "                                                cast        country  \\\n",
              "0                                                NaN  United States   \n",
              "1  Ama Qamata, Khosi Ngema, Gail Mabalane, Thaban...   South Africa   \n",
              "2  Sami Bouajila, Tracy Gotoas, Samuel Jouy, Nabi...            NaN   \n",
              "3                                                NaN            NaN   \n",
              "4  Mayur More, Jitendra Kumar, Ranjan Raj, Alam K...          India   \n",
              "\n",
              "           date_added  release_year rating   duration  \\\n",
              "0  September 25, 2021          2020  PG-13     90 min   \n",
              "1  September 24, 2021          2021  TV-MA  2 Seasons   \n",
              "2  September 24, 2021          2021  TV-MA   1 Season   \n",
              "3  September 24, 2021          2021  TV-MA   1 Season   \n",
              "4  September 24, 2021          2021  TV-MA  2 Seasons   \n",
              "\n",
              "                                           listed_in  \\\n",
              "0                                      Documentaries   \n",
              "1    International TV Shows, TV Dramas, TV Mysteries   \n",
              "2  Crime TV Shows, International TV Shows, TV Act...   \n",
              "3                             Docuseries, Reality TV   \n",
              "4  International TV Shows, Romantic TV Shows, TV ...   \n",
              "\n",
              "                                         description  \n",
              "0  As her father nears the end of his life, filmm...  \n",
              "1  After crossing paths at a party, a Cape Town t...  \n",
              "2  To protect his family from a powerful drug lor...  \n",
              "3  Feuds, flirtations and toilet talk go down amo...  \n",
              "4  In a city of coaching centers known to train I...  "
            ],
            "text/html": [
              "\n",
              "  <div id=\"df-9af832c7-0696-46de-8c69-25c51d3c8246\">\n",
              "    <div class=\"colab-df-container\">\n",
              "      <div>\n",
              "<style scoped>\n",
              "    .dataframe tbody tr th:only-of-type {\n",
              "        vertical-align: middle;\n",
              "    }\n",
              "\n",
              "    .dataframe tbody tr th {\n",
              "        vertical-align: top;\n",
              "    }\n",
              "\n",
              "    .dataframe thead th {\n",
              "        text-align: right;\n",
              "    }\n",
              "</style>\n",
              "<table border=\"1\" class=\"dataframe\">\n",
              "  <thead>\n",
              "    <tr style=\"text-align: right;\">\n",
              "      <th></th>\n",
              "      <th>show_id</th>\n",
              "      <th>type</th>\n",
              "      <th>title</th>\n",
              "      <th>director</th>\n",
              "      <th>cast</th>\n",
              "      <th>country</th>\n",
              "      <th>date_added</th>\n",
              "      <th>release_year</th>\n",
              "      <th>rating</th>\n",
              "      <th>duration</th>\n",
              "      <th>listed_in</th>\n",
              "      <th>description</th>\n",
              "    </tr>\n",
              "  </thead>\n",
              "  <tbody>\n",
              "    <tr>\n",
              "      <th>0</th>\n",
              "      <td>s1</td>\n",
              "      <td>Movie</td>\n",
              "      <td>Dick Johnson Is Dead</td>\n",
              "      <td>Kirsten Johnson</td>\n",
              "      <td>NaN</td>\n",
              "      <td>United States</td>\n",
              "      <td>September 25, 2021</td>\n",
              "      <td>2020</td>\n",
              "      <td>PG-13</td>\n",
              "      <td>90 min</td>\n",
              "      <td>Documentaries</td>\n",
              "      <td>As her father nears the end of his life, filmm...</td>\n",
              "    </tr>\n",
              "    <tr>\n",
              "      <th>1</th>\n",
              "      <td>s2</td>\n",
              "      <td>TV Show</td>\n",
              "      <td>Blood &amp; Water</td>\n",
              "      <td>NaN</td>\n",
              "      <td>Ama Qamata, Khosi Ngema, Gail Mabalane, Thaban...</td>\n",
              "      <td>South Africa</td>\n",
              "      <td>September 24, 2021</td>\n",
              "      <td>2021</td>\n",
              "      <td>TV-MA</td>\n",
              "      <td>2 Seasons</td>\n",
              "      <td>International TV Shows, TV Dramas, TV Mysteries</td>\n",
              "      <td>After crossing paths at a party, a Cape Town t...</td>\n",
              "    </tr>\n",
              "    <tr>\n",
              "      <th>2</th>\n",
              "      <td>s3</td>\n",
              "      <td>TV Show</td>\n",
              "      <td>Ganglands</td>\n",
              "      <td>Julien Leclercq</td>\n",
              "      <td>Sami Bouajila, Tracy Gotoas, Samuel Jouy, Nabi...</td>\n",
              "      <td>NaN</td>\n",
              "      <td>September 24, 2021</td>\n",
              "      <td>2021</td>\n",
              "      <td>TV-MA</td>\n",
              "      <td>1 Season</td>\n",
              "      <td>Crime TV Shows, International TV Shows, TV Act...</td>\n",
              "      <td>To protect his family from a powerful drug lor...</td>\n",
              "    </tr>\n",
              "    <tr>\n",
              "      <th>3</th>\n",
              "      <td>s4</td>\n",
              "      <td>TV Show</td>\n",
              "      <td>Jailbirds New Orleans</td>\n",
              "      <td>NaN</td>\n",
              "      <td>NaN</td>\n",
              "      <td>NaN</td>\n",
              "      <td>September 24, 2021</td>\n",
              "      <td>2021</td>\n",
              "      <td>TV-MA</td>\n",
              "      <td>1 Season</td>\n",
              "      <td>Docuseries, Reality TV</td>\n",
              "      <td>Feuds, flirtations and toilet talk go down amo...</td>\n",
              "    </tr>\n",
              "    <tr>\n",
              "      <th>4</th>\n",
              "      <td>s5</td>\n",
              "      <td>TV Show</td>\n",
              "      <td>Kota Factory</td>\n",
              "      <td>NaN</td>\n",
              "      <td>Mayur More, Jitendra Kumar, Ranjan Raj, Alam K...</td>\n",
              "      <td>India</td>\n",
              "      <td>September 24, 2021</td>\n",
              "      <td>2021</td>\n",
              "      <td>TV-MA</td>\n",
              "      <td>2 Seasons</td>\n",
              "      <td>International TV Shows, Romantic TV Shows, TV ...</td>\n",
              "      <td>In a city of coaching centers known to train I...</td>\n",
              "    </tr>\n",
              "  </tbody>\n",
              "</table>\n",
              "</div>\n",
              "      <button class=\"colab-df-convert\" onclick=\"convertToInteractive('df-9af832c7-0696-46de-8c69-25c51d3c8246')\"\n",
              "              title=\"Convert this dataframe to an interactive table.\"\n",
              "              style=\"display:none;\">\n",
              "        \n",
              "  <svg xmlns=\"http://www.w3.org/2000/svg\" height=\"24px\"viewBox=\"0 0 24 24\"\n",
              "       width=\"24px\">\n",
              "    <path d=\"M0 0h24v24H0V0z\" fill=\"none\"/>\n",
              "    <path d=\"M18.56 5.44l.94 2.06.94-2.06 2.06-.94-2.06-.94-.94-2.06-.94 2.06-2.06.94zm-11 1L8.5 8.5l.94-2.06 2.06-.94-2.06-.94L8.5 2.5l-.94 2.06-2.06.94zm10 10l.94 2.06.94-2.06 2.06-.94-2.06-.94-.94-2.06-.94 2.06-2.06.94z\"/><path d=\"M17.41 7.96l-1.37-1.37c-.4-.4-.92-.59-1.43-.59-.52 0-1.04.2-1.43.59L10.3 9.45l-7.72 7.72c-.78.78-.78 2.05 0 2.83L4 21.41c.39.39.9.59 1.41.59.51 0 1.02-.2 1.41-.59l7.78-7.78 2.81-2.81c.8-.78.8-2.07 0-2.86zM5.41 20L4 18.59l7.72-7.72 1.47 1.35L5.41 20z\"/>\n",
              "  </svg>\n",
              "      </button>\n",
              "      \n",
              "  <style>\n",
              "    .colab-df-container {\n",
              "      display:flex;\n",
              "      flex-wrap:wrap;\n",
              "      gap: 12px;\n",
              "    }\n",
              "\n",
              "    .colab-df-convert {\n",
              "      background-color: #E8F0FE;\n",
              "      border: none;\n",
              "      border-radius: 50%;\n",
              "      cursor: pointer;\n",
              "      display: none;\n",
              "      fill: #1967D2;\n",
              "      height: 32px;\n",
              "      padding: 0 0 0 0;\n",
              "      width: 32px;\n",
              "    }\n",
              "\n",
              "    .colab-df-convert:hover {\n",
              "      background-color: #E2EBFA;\n",
              "      box-shadow: 0px 1px 2px rgba(60, 64, 67, 0.3), 0px 1px 3px 1px rgba(60, 64, 67, 0.15);\n",
              "      fill: #174EA6;\n",
              "    }\n",
              "\n",
              "    [theme=dark] .colab-df-convert {\n",
              "      background-color: #3B4455;\n",
              "      fill: #D2E3FC;\n",
              "    }\n",
              "\n",
              "    [theme=dark] .colab-df-convert:hover {\n",
              "      background-color: #434B5C;\n",
              "      box-shadow: 0px 1px 3px 1px rgba(0, 0, 0, 0.15);\n",
              "      filter: drop-shadow(0px 1px 2px rgba(0, 0, 0, 0.3));\n",
              "      fill: #FFFFFF;\n",
              "    }\n",
              "  </style>\n",
              "\n",
              "      <script>\n",
              "        const buttonEl =\n",
              "          document.querySelector('#df-9af832c7-0696-46de-8c69-25c51d3c8246 button.colab-df-convert');\n",
              "        buttonEl.style.display =\n",
              "          google.colab.kernel.accessAllowed ? 'block' : 'none';\n",
              "\n",
              "        async function convertToInteractive(key) {\n",
              "          const element = document.querySelector('#df-9af832c7-0696-46de-8c69-25c51d3c8246');\n",
              "          const dataTable =\n",
              "            await google.colab.kernel.invokeFunction('convertToInteractive',\n",
              "                                                     [key], {});\n",
              "          if (!dataTable) return;\n",
              "\n",
              "          const docLinkHtml = 'Like what you see? Visit the ' +\n",
              "            '<a target=\"_blank\" href=https://colab.research.google.com/notebooks/data_table.ipynb>data table notebook</a>'\n",
              "            + ' to learn more about interactive tables.';\n",
              "          element.innerHTML = '';\n",
              "          dataTable['output_type'] = 'display_data';\n",
              "          await google.colab.output.renderOutput(dataTable, element);\n",
              "          const docLink = document.createElement('div');\n",
              "          docLink.innerHTML = docLinkHtml;\n",
              "          element.appendChild(docLink);\n",
              "        }\n",
              "      </script>\n",
              "    </div>\n",
              "  </div>\n",
              "  "
            ]
          },
          "metadata": {},
          "execution_count": 3
        }
      ]
    },
    {
      "cell_type": "code",
      "execution_count": null,
      "metadata": {
        "colab": {
          "base_uri": "https://localhost:8080/"
        },
        "id": "BfAz_4KZl2gS",
        "outputId": "93349c5c-b501-4535-ca5d-710e1a9b0a47"
      },
      "outputs": [
        {
          "output_type": "stream",
          "name": "stdout",
          "text": [
            "<class 'pandas.core.frame.DataFrame'>\n",
            "RangeIndex: 8807 entries, 0 to 8806\n",
            "Data columns (total 12 columns):\n",
            " #   Column        Non-Null Count  Dtype \n",
            "---  ------        --------------  ----- \n",
            " 0   show_id       8807 non-null   object\n",
            " 1   type          8807 non-null   object\n",
            " 2   title         8807 non-null   object\n",
            " 3   director      6173 non-null   object\n",
            " 4   cast          7982 non-null   object\n",
            " 5   country       7976 non-null   object\n",
            " 6   date_added    8797 non-null   object\n",
            " 7   release_year  8807 non-null   int64 \n",
            " 8   rating        8803 non-null   object\n",
            " 9   duration      8804 non-null   object\n",
            " 10  listed_in     8807 non-null   object\n",
            " 11  description   8807 non-null   object\n",
            "dtypes: int64(1), object(11)\n",
            "memory usage: 825.8+ KB\n"
          ]
        }
      ],
      "source": [
        "netflix.info()"
      ]
    },
    {
      "cell_type": "code",
      "execution_count": null,
      "metadata": {
        "id": "XFgGtHdDl7_S"
      },
      "outputs": [],
      "source": [
        "netflix_backup = netflix.copy()"
      ]
    },
    {
      "cell_type": "markdown",
      "metadata": {
        "id": "a_qWBgFXmK91"
      },
      "source": [
        "Data Cleaning"
      ]
    },
    {
      "cell_type": "code",
      "execution_count": null,
      "metadata": {
        "id": "owYFqBFcmMIt"
      },
      "outputs": [],
      "source": [
        "netflix['date_netflix'] = pd.to_datetime(netflix['date_added'])"
      ]
    },
    {
      "cell_type": "code",
      "execution_count": null,
      "metadata": {
        "id": "Hc-Rbd7pmqx5"
      },
      "outputs": [],
      "source": [
        "netflix = netflix.dropna(axis=0)"
      ]
    },
    {
      "cell_type": "code",
      "execution_count": null,
      "metadata": {
        "colab": {
          "base_uri": "https://localhost:8080/"
        },
        "id": "EAZQNOQ8nCY-",
        "outputId": "9ac112cc-f5be-4a12-ee81-348c8926594c"
      },
      "outputs": [
        {
          "output_type": "stream",
          "name": "stdout",
          "text": [
            "<class 'pandas.core.frame.DataFrame'>\n",
            "Int64Index: 5332 entries, 7 to 8806\n",
            "Data columns (total 13 columns):\n",
            " #   Column        Non-Null Count  Dtype         \n",
            "---  ------        --------------  -----         \n",
            " 0   show_id       5332 non-null   object        \n",
            " 1   type          5332 non-null   object        \n",
            " 2   title         5332 non-null   object        \n",
            " 3   director      5332 non-null   object        \n",
            " 4   cast          5332 non-null   object        \n",
            " 5   country       5332 non-null   object        \n",
            " 6   date_added    5332 non-null   object        \n",
            " 7   release_year  5332 non-null   int64         \n",
            " 8   rating        5332 non-null   object        \n",
            " 9   duration      5332 non-null   object        \n",
            " 10  listed_in     5332 non-null   object        \n",
            " 11  description   5332 non-null   object        \n",
            " 12  date_netflix  5332 non-null   datetime64[ns]\n",
            "dtypes: datetime64[ns](1), int64(1), object(11)\n",
            "memory usage: 583.2+ KB\n"
          ]
        }
      ],
      "source": [
        "netflix.info()"
      ]
    },
    {
      "cell_type": "code",
      "execution_count": null,
      "metadata": {
        "colab": {
          "base_uri": "https://localhost:8080/"
        },
        "id": "dFLyedMjnQe7",
        "outputId": "6924dbd9-d8ae-4e90-8b3e-cb63fc829ab5"
      },
      "outputs": [
        {
          "output_type": "execute_result",
          "data": {
            "text/plain": [
              "array([1993, 2021, 1998, 2010, 2013, 2017, 1975, 1978, 1983, 1987, 2012,\n",
              "       2001, 2002, 2003, 2004, 2011, 2008, 2009, 2007, 2005, 2006, 2018,\n",
              "       2020, 2019, 1994, 2015, 1982, 1989, 2014, 1990, 1991, 1999, 2016,\n",
              "       1986, 1996, 1984, 1997, 1980, 1961, 1995, 1985, 1992, 2000, 1976,\n",
              "       1959, 1988, 1972, 1981, 1964, 1954, 1979, 1958, 1956, 1963, 1970,\n",
              "       1973, 1960, 1974, 1966, 1971, 1962, 1969, 1977, 1967, 1968, 1965,\n",
              "       1945, 1946, 1955, 1942, 1947, 1944])"
            ]
          },
          "metadata": {},
          "execution_count": 9
        }
      ],
      "source": [
        "netflix.release_year.unique()"
      ]
    },
    {
      "cell_type": "markdown",
      "metadata": {
        "id": "dDnTwaKwndwI"
      },
      "source": [
        "Count years value "
      ]
    },
    {
      "cell_type": "code",
      "execution_count": null,
      "metadata": {
        "colab": {
          "base_uri": "https://localhost:8080/",
          "height": 298
        },
        "id": "tHtQXvYenmua",
        "outputId": "52385bb8-223f-4d3f-ec9d-923315eac90e"
      },
      "outputs": [
        {
          "output_type": "execute_result",
          "data": {
            "text/plain": [
              "<matplotlib.axes._subplots.AxesSubplot at 0x7f406356d410>"
            ]
          },
          "metadata": {},
          "execution_count": 10
        },
        {
          "output_type": "display_data",
          "data": {
            "text/plain": [
              "<Figure size 432x288 with 1 Axes>"
            ],
            "image/png": "[encoded data removed]"
          },
          "metadata": {
            "needs_background": "light"
          }
        }
      ],
      "source": [
        "netflix['date_netflix'].dt.year.value_counts().plot(kind = 'bar')"
      ]
    },
    {
      "cell_type": "markdown",
      "metadata": {
        "id": "Gif-xU7nvbXP"
      },
      "source": [
        "Count Plot TV Show and Movie"
      ]
    },
    {
      "cell_type": "code",
      "execution_count": null,
      "metadata": {
        "colab": {
          "base_uri": "https://localhost:8080/",
          "height": 367
        },
        "id": "szgD-zaPvg0g",
        "outputId": "06c1361e-44ec-42ad-b6d4-a6f88cb15845"
      },
      "outputs": [
        {
          "output_type": "stream",
          "name": "stderr",
          "text": [
            "/usr/local/lib/python3.7/dist-packages/seaborn/_decorators.py:43: FutureWarning: Pass the following variable as a keyword arg: x. From version 0.12, the only valid positional argument will be `data`, and passing other arguments without an explicit keyword will result in an error or misinterpretation.\n",
            "  FutureWarning\n"
          ]
        },
        {
          "output_type": "execute_result",
          "data": {
            "text/plain": [
              "Text(0.5, 1.0, 'type of netflix')"
            ]
          },
          "metadata": {},
          "execution_count": 23
        },
        {
          "output_type": "display_data",
          "data": {
            "text/plain": [
              "<Figure size 432x288 with 1 Axes>"
            ],
            "image/png": "[encoded data removed]"
          },
          "metadata": {
            "needs_background": "light"
          }
        }
      ],
      "source": [
        "import matplotlib.pyplot as plt\n",
        "import seaborn as sns\n",
        "sns.countplot(netflix['type'])\n",
        "plt.title('type of netflix')"
      ]
    },
    {
      "cell_type": "markdown",
      "metadata": {
        "id": "EV3GsNAdyddP"
      },
      "source": [
        "Count Plot Ratings"
      ]
    },
    {
      "cell_type": "code",
      "execution_count": null,
      "metadata": {
        "colab": {
          "base_uri": "https://localhost:8080/"
        },
        "id": "ow_Mxitx8VIO",
        "outputId": "6e6a3eae-2ee7-4100-9469-15518ea22d36"
      },
      "outputs": [
        {
          "output_type": "execute_result",
          "data": {
            "text/plain": [
              "array(['TV-MA', 'TV-14', 'PG-13', 'PG', 'R', 'TV-PG', 'G', 'TV-Y7',\n",
              "       'TV-G', 'TV-Y', 'NC-17', 'NR', 'TV-Y7-FV', 'UR'], dtype=object)"
            ]
          },
          "metadata": {},
          "execution_count": 24
        }
      ],
      "source": [
        "netflix['rating'].unique()"
      ]
    },
    {
      "cell_type": "code",
      "execution_count": null,
      "metadata": {
        "colab": {
          "base_uri": "https://localhost:8080/",
          "height": 367
        },
        "id": "nobzGNjdyfrn",
        "outputId": "d5adb1e9-c6f2-4179-f37b-8beb7479ce39"
      },
      "outputs": [
        {
          "output_type": "stream",
          "name": "stderr",
          "text": [
            "/usr/local/lib/python3.7/dist-packages/seaborn/_decorators.py:43: FutureWarning: Pass the following variable as a keyword arg: x. From version 0.12, the only valid positional argument will be `data`, and passing other arguments without an explicit keyword will result in an error or misinterpretation.\n",
            "  FutureWarning\n"
          ]
        },
        {
          "output_type": "execute_result",
          "data": {
            "text/plain": [
              "Text(0.5, 1.0, 'Plot of Rating')"
            ]
          },
          "metadata": {},
          "execution_count": 25
        },
        {
          "output_type": "display_data",
          "data": {
            "text/plain": [
              "<Figure size 432x288 with 1 Axes>"
            ],
            "image/png": "[encoded data removed]"
          },
          "metadata": {
            "needs_background": "light"
          }
        }
      ],
      "source": [
        "sns.countplot(netflix.rating, palette = 'Spectral')\n",
        "plt.title('Plot of Rating')"
      ]
    },
    {
      "cell_type": "markdown",
      "metadata": {
        "id": "A2pjXf8Rv1YM"
      },
      "source": [
        "The most country that watch Netflix"
      ]
    },
    {
      "cell_type": "code",
      "source": [
        "netflix['country'].unique()"
      ],
      "metadata": {
        "colab": {
          "base_uri": "https://localhost:8080/"
        },
        "id": "LEtGfh-BVb4y",
        "outputId": "f4b39b6a-e673-4a38-f8c0-a332e5507907"
      },
      "execution_count": null,
      "outputs": [
        {
          "output_type": "execute_result",
          "data": {
            "text/plain": [
              "array(['United States, Ghana, Burkina Faso, United Kingdom, Germany, Ethiopia',\n",
              "       'United Kingdom', 'United States', 'Germany, Czech Republic',\n",
              "       'India', 'United States, India, France',\n",
              "       'China, Canada, United States',\n",
              "       'South Africa, United States, Japan', 'Japan', 'Nigeria',\n",
              "       'Spain, United States', 'United Kingdom, United States',\n",
              "       'United Kingdom, Australia, France',\n",
              "       'United Kingdom, Australia, France, United States',\n",
              "       'United States, Canada', 'Germany, United States',\n",
              "       'South Africa, United States', 'United States, Mexico',\n",
              "       'United States, Italy, France, Japan',\n",
              "       'United States, Italy, Romania, United Kingdom',\n",
              "       'Australia, United States', 'Argentina, Venezuela',\n",
              "       'United States, United Kingdom, Canada', 'China, Hong Kong',\n",
              "       'Canada', 'Hong Kong', 'United States, China, Hong Kong',\n",
              "       'Italy, United States', 'United States, Germany', 'France',\n",
              "       'United Kingdom, Canada, United States',\n",
              "       'United States, United Kingdom', 'India, Nepal',\n",
              "       'New Zealand, Australia, France, United States',\n",
              "       'Italy, Brazil, Greece', 'Spain', 'Colombia',\n",
              "       'United States, Japan', 'Mexico',\n",
              "       'Switzerland, United Kingdom, Australia', 'South Africa',\n",
              "       'Canada, United States', 'Argentina', 'Argentina, Spain',\n",
              "       'United States, Nigeria', 'Taiwan', 'Bulgaria, United States',\n",
              "       'Spain, United Kingdom, United States', 'United States, China',\n",
              "       'United States, France',\n",
              "       'Spain, France, United Kingdom, United States',\n",
              "       ', France, Algeria', 'Poland',\n",
              "       'France, Israel, Germany, United States, United Kingdom',\n",
              "       'Australia', 'New Zealand', 'Saudi Arabia', 'Thailand',\n",
              "       'Indonesia', 'Italy', 'United States, Switzerland',\n",
              "       'Hong Kong, Canada, United States', 'Kuwait, United States',\n",
              "       'France, Canada, United States, Spain',\n",
              "       'France, Netherlands, Singapore', 'Egypt', 'Malaysia',\n",
              "       'South Korea, Czech Republic', 'South Korea', 'Vietnam',\n",
              "       'United Kingdom, Belgium',\n",
              "       'United Kingdom, Australia, United States',\n",
              "       'France, Japan, United States',\n",
              "       'United Kingdom, Germany, Spain, United States',\n",
              "       'United Kingdom, United States, France, Italy',\n",
              "       'United States, Germany, Canada',\n",
              "       'United States, France, Italy, United Kingdom',\n",
              "       'United States, United Kingdom, Germany, Hungary',\n",
              "       'United States, New Zealand', 'Lebanon', 'Brazil', 'Romania',\n",
              "       'Lebanon, Syria', 'Philippines', 'Germany', 'United States, India',\n",
              "       'Philippines, Singapore, Indonesia',\n",
              "       'China, United States, Canada', 'Lebanon, United Arab Emirates',\n",
              "       'Canada, United States, Denmark', 'United Arab Emirates',\n",
              "       'Mexico, France, Colombia', 'Sweden',\n",
              "       'Germany, United States, France', 'United States, Bulgaria',\n",
              "       'United Kingdom, France, Germany, United States',\n",
              "       'Syria, France, Lebanon, Qatar', 'Belgium, Netherlands',\n",
              "       'Mauritius', 'Canada, South Africa', 'Austria', 'Mexico, Brazil',\n",
              "       'France, United States', 'China', 'Turkey', 'Germany, France',\n",
              "       'United Kingdom, France, Spain, United States',\n",
              "       'United States, Australia',\n",
              "       'United States, United Kingdom, France', 'United States, Russia',\n",
              "       'United States, United Kingdom, New Zealand',\n",
              "       'Canada, Nigeria, United States',\n",
              "       'France, United States, United Kingdom, Canada',\n",
              "       'India, United Kingdom', 'Canada, United States, Mexico',\n",
              "       'United Kingdom, Germany, United States',\n",
              "       'Czech Republic, United Kingdom, United States', 'China, Taiwan',\n",
              "       'Cameroon', 'Netherlands', 'Japan, United States',\n",
              "       'Egypt, Saudi Arabia',\n",
              "       'United Kingdom, France, Poland, Germany, United States',\n",
              "       'Ireland, Switzerland, United Kingdom, France, United States',\n",
              "       'China, United Kingdom', 'United Kingdom, South Africa, France',\n",
              "       'Ireland, United Kingdom, France, Germany',\n",
              "       'Russia, United States', 'United Kingdom, United States, France',\n",
              "       'United Kingdom,', 'United States, India, United Kingdom', 'Kenya',\n",
              "       'Spain, Argentina', 'India, United Kingdom, France, Qatar',\n",
              "       'Belgium, France', 'Argentina, Chile', 'United States, Thailand',\n",
              "       'Chile, Brazil', 'Canada, United States, United Kingdom',\n",
              "       'United States, Cambodia, Romania', 'Bangladesh',\n",
              "       'Spain, Belgium, United States',\n",
              "       'United Kingdom, United States, Australia',\n",
              "       'Portugal, United States', 'Portugal, Spain',\n",
              "       'India, United States', 'United Kingdom, Ireland',\n",
              "       'United Kingdom, Spain, United States', 'Hungary, United States',\n",
              "       'United States, South Korea',\n",
              "       'Canada, United States, Cayman Islands', 'India, France',\n",
              "       'France, Canada', 'Canada, Hungary, United States', 'Norway',\n",
              "       'Canada, United Kingdom, United States',\n",
              "       'United Kingdom, Germany, France, United States',\n",
              "       'France, Algeria',\n",
              "       'Philippines, Canada, United Kingdom, United States',\n",
              "       'Ireland, France, Iceland, United States, Mexico, Belgium, United Kingdom, Hong Kong',\n",
              "       'Singapore', 'France, Belgium', 'Iceland',\n",
              "       'United States, France, Serbia', 'United States, Italy',\n",
              "       'Hong Kong, United States',\n",
              "       'United States, Malta, France, United Kingdom',\n",
              "       'United States, China, Canada', 'Spain, France, Canada',\n",
              "       'United States, China, Colombia', 'Spain, Thailand, United States',\n",
              "       'Mexico, Spain', 'Ireland, Luxembourg, Belgium',\n",
              "       'China, United States', 'Canada, Belgium',\n",
              "       'Canada, United Kingdom',\n",
              "       'Lebanon, United Arab Emirates, France, Switzerland, Germany',\n",
              "       'France, Belgium, Italy',\n",
              "       'Lebanon, United States, United Arab Emirates', 'Lebanon, France',\n",
              "       'France, Lebanon', 'France, Lebanon, United Kingdom',\n",
              "       'France, Norway, Lebanon, Belgium', 'Lebanon, Canada, France',\n",
              "       'Sweden, Czech Republic, United Kingdom, Denmark, Netherlands',\n",
              "       'United States, United Kingdom, India', 'Indonesia, Netherlands',\n",
              "       'Turkey, South Korea', 'Russia', 'Serbia, United States',\n",
              "       'Namibia', 'United Kingdom, Kenya',\n",
              "       'United Kingdom, France, United States, Belgium, Luxembourg, China, Germany',\n",
              "       'United States, France, Canada, Belgium',\n",
              "       'Germany, China, United Kingdom',\n",
              "       'Hong Kong, Iceland, United States',\n",
              "       'United States, Belgium, Canada, France', 'South Africa, Angola',\n",
              "       'United States, Philippines',\n",
              "       'United States, United Kingdom, Canada, China',\n",
              "       'United States, Canada, United Kingdom', 'Uruguay',\n",
              "       'Turkey, United States', 'Peru, Germany, Norway', 'Mozambique',\n",
              "       'Brazil, France', 'China, Spain, South Korea, United States',\n",
              "       'Spain, Germany', 'Hong Kong, China',\n",
              "       'France, Belgium, Luxembourg, Cambodia,', 'Belgium',\n",
              "       'Indonesia, United Kingdom',\n",
              "       'Switzerland, France, Belgium, United States', 'Ghana',\n",
              "       'United Kingdom, Nigeria', 'Chile', 'France, Egypt',\n",
              "       'Egypt, France', 'France, Brazil, Spain, Belgium',\n",
              "       'Egypt, Algeria', 'Canada, South Korea, United States',\n",
              "       'Nigeria, United Kingdom',\n",
              "       'United Arab Emirates, Jordan, Lebanon, Saudi Arabia',\n",
              "       'Saudi Arabia, United Arab Emirates', 'Zimbabwe',\n",
              "       'United Kingdom, Germany, United Arab Emirates, New Zealand',\n",
              "       'Romania, United States', 'Mexico, United States', 'Kuwait',\n",
              "       'Canada, Nigeria',\n",
              "       'Saudi Arabia, Netherlands, Germany, Jordan, United Arab Emirates, United States',\n",
              "       'United Kingdom, Germany, United States, France',\n",
              "       'India, United Kingdom, China, Canada, Japan, South Korea, United States',\n",
              "       'Turkey, India', 'Italy, Turkey',\n",
              "       'United Kingdom, United States, Japan',\n",
              "       'France, Belgium, United States', 'Uruguay, Argentina',\n",
              "       'United States, United Kingdom, Japan', 'United Kingdom, Italy',\n",
              "       'Ireland, United Kingdom',\n",
              "       'United Kingdom, France, Belgium, Canada, United States',\n",
              "       'Netherlands, Germany, Denmark, United Kingdom', 'Hungary',\n",
              "       'South Korea, United States',\n",
              "       'Romania, France, Switzerland, Germany',\n",
              "       'France, Malta, United States',\n",
              "       'United Kingdom, France, Belgium, Ireland, United States',\n",
              "       'United States, Norway, Canada', 'Poland, United States',\n",
              "       'Kenya, United States',\n",
              "       'France, South Korea, Japan, United States', 'Taiwan, Malaysia',\n",
              "       'Uruguay, Argentina, Germany, Spain',\n",
              "       'United States, United Kingdom, France, Germany, Japan',\n",
              "       'United States, France, Japan',\n",
              "       'United Kingdom, France, United States',\n",
              "       'Spain, France, United States',\n",
              "       'Indonesia, South Korea, Singapore', 'United States, Spain',\n",
              "       'Argentina, Uruguay, Serbia', 'Israel, United States',\n",
              "       'France, Japan',\n",
              "       'United Kingdom, United States, Germany, Denmark, Belgium, Japan',\n",
              "       'India, Germany', 'India, United Kingdom, Canada, United States',\n",
              "       'Philippines, United States', 'Romania, Bulgaria, Hungary',\n",
              "       'Uruguay, Guatemala', 'France, Senegal, Belgium', 'Canada, Norway',\n",
              "       'United Kingdom, France', 'United States, Chile',\n",
              "       'United Kingdom, Japan, United States', 'Spain, United Kingdom',\n",
              "       'United States, South Korea, Japan',\n",
              "       'United Kingdom, Hungary, Australia', 'Italy, Belgium',\n",
              "       'Switzerland', 'Singapore, Malaysia',\n",
              "       'France, Belgium, Luxembourg, Romania, Canada, United States',\n",
              "       'South Africa, Nigeria', 'Spain, France', 'Pakistan',\n",
              "       'Denmark, Brazil, France, Portugal, Sweden', 'India, Turkey',\n",
              "       'Philippines, Singapore', 'Taiwan, China, France, United States',\n",
              "       'Colombia, Peru, United Kingdom', 'Thailand, China, United States',\n",
              "       'Argentina, United States', 'Uruguay, Spain, Mexico',\n",
              "       'France, Luxembourg, Canada', 'Chile, Argentina', 'Denmark',\n",
              "       'Italy, France', 'Canada, Germany',\n",
              "       'Pakistan, United Arab Emirates', 'Ghana, United States',\n",
              "       'Mexico, Finland', 'United Arab Emirates, United Kingdom, India',\n",
              "       'Netherlands, Belgium', 'United States, Taiwan',\n",
              "       'United Kingdom, Malawi', 'Paraguay, Argentina',\n",
              "       'United Kingdom, Russia, United States', 'India, Pakistan',\n",
              "       'Indonesia, Singapore', 'Spain, Belgium',\n",
              "       'Iceland, Sweden, Belgium', 'Uruguay, Argentina, Spain',\n",
              "       'United Kingdom, Ireland, United States',\n",
              "       'Canada, Germany, France, United States', 'United Kingdom, Japan',\n",
              "       'Norway, Denmark, Netherlands, Sweden',\n",
              "       'Hong Kong, China, United States', 'Ireland, Canada',\n",
              "       'Italy, Switzerland, France, Germany', 'Mexico, Netherlands',\n",
              "       'France, Iran, United States', 'United Kingdom, India',\n",
              "       'Russia, Poland, Serbia', 'Spain, Portugal', 'Peru',\n",
              "       'Mexico, Argentina',\n",
              "       'United Kingdom, Canada, United States, Cayman Islands',\n",
              "       'Indonesia, United States',\n",
              "       'United States, Israel, United Kingdom, Canada',\n",
              "       'Norway, Iceland, United States',\n",
              "       'United Kingdom, India, United States', 'India, Australia',\n",
              "       'Belgium, United Kingdom, United States',\n",
              "       'India, Germany, Austria', 'Spain, Mexico', 'China, Japan',\n",
              "       'Argentina, France', 'China, United States, United Kingdom',\n",
              "       'France, Luxembourg, United States',\n",
              "       'China, United States, Australia', 'Colombia, Mexico',\n",
              "       'United States, Canada, Ireland', 'Israel', 'Chile, Peru',\n",
              "       'Canada, Japan, United States',\n",
              "       'United Kingdom, Canada, United States, Germany',\n",
              "       'Italy, Switzerland, Albania, Poland', 'Cambodia',\n",
              "       'United States, Canada, Indonesia, United Kingdom, China, Singapore',\n",
              "       'Spain, Colombia', 'Bulgaria',\n",
              "       'Argentina, Brazil, France, Poland, Germany, Denmark',\n",
              "       'United Kingdom, Spain, United States, Germany',\n",
              "       'Philippines, Qatar', 'Netherlands, Belgium, Germany, Jordan',\n",
              "       'United Arab Emirates, United States', 'United Kingdom, Germany',\n",
              "       'United Kingdom, Canada', 'Soviet Union, India',\n",
              "       'Australia, United Arab Emirates', 'Czech Republic, United States',\n",
              "       'South Korea, China, United States', 'India, Soviet Union',\n",
              "       'India, Mexico', 'Georgia, Germany, France',\n",
              "       'United Arab Emirates, Romania', 'Australia, Canada',\n",
              "       'India, Malaysia', 'Germany, Jordan, Netherlands',\n",
              "       'Turkey, France, Germany, Poland', 'Norway, Germany',\n",
              "       'France, Morocco', 'Cambodia, United States',\n",
              "       'United Kingdom, Italy, Israel, Peru, United States',\n",
              "       'Argentina, Uruguay, Spain, France',\n",
              "       'United Kingdom, France, United States, Belgium',\n",
              "       'France, Canada, China, Cambodia',\n",
              "       'United Kingdom, France, Belgium, United States', 'Ireland',\n",
              "       'Chile, France', 'France, United Kingdom, India',\n",
              "       'Czech Republic, Slovakia', 'Singapore, France',\n",
              "       'Spain, Switzerland', 'South Africa, United States, Germany',\n",
              "       'Spain, Italy, Argentina', 'Chile, Spain, Argentina, Germany',\n",
              "       'Austria, Czech Republic', 'Lebanon, Qatar',\n",
              "       'United Kingdom, Jordan, Qatar, Iran',\n",
              "       'France, South Korea, Japan', 'Israel, Germany, France',\n",
              "       'United States, Hungary', 'France, Qatar',\n",
              "       'United Kingdom, Germany, Canada', 'Ireland, South Africa',\n",
              "       'Chile, United States, France', 'Belgium, France, Netherlands',\n",
              "       'United States, Bermuda, Ecuador',\n",
              "       'United Kingdom, Egypt, United States',\n",
              "       'United States, France, United Kingdom', 'Spain, Mexico, France',\n",
              "       'United States, South Africa', 'Hong Kong, China, Singapore',\n",
              "       'South Africa, China, United States', 'Denmark, France, Poland',\n",
              "       'New Zealand, United Kingdom',\n",
              "       'Netherlands, Denmark, South Africa', 'Iran, France',\n",
              "       'United Kingdom, United States, France, Germany',\n",
              "       'Australia, France', 'Ireland, United Kingdom, United States',\n",
              "       'Spain, Italy', 'United Kingdom, France, Germany',\n",
              "       'Canada, Luxembourg',\n",
              "       'Brazil, Netherlands, United States, Colombia, Austria, Germany',\n",
              "       'France, Canada, Belgium',\n",
              "       'Bulgaria, United States, Spain, Canada', 'Sweden, Netherlands',\n",
              "       'France, United States, Mexico',\n",
              "       'Australia, United Kingdom, United Arab Emirates, Canada',\n",
              "       'Singapore, United States', 'India, Iran',\n",
              "       'France, Belgium, Spain', 'Denmark, Sweden, Israel, United States',\n",
              "       'United States, Iceland', 'United Kingdom, Russia',\n",
              "       'United States, Israel, Italy, South Africa', 'South Korea, Japan',\n",
              "       'United Kingdom, Pakistan',\n",
              "       'United Kingdom, Czech Republic, United States, Germany, Bahamas',\n",
              "       'Germany, Sri Lanka', 'United States, Sweden',\n",
              "       'United States, India, Bangladesh',\n",
              "       'United States, Canada, France', 'Brazil, France, Germany',\n",
              "       'United States, United Kingdom, Australia',\n",
              "       'Germany, United States, Hong Kong, Singapore',\n",
              "       'France, Germany, Switzerland',\n",
              "       'Germany, France, Luxembourg, United Kingdom, United States',\n",
              "       'United Kingdom, Canada, Italy',\n",
              "       'Taiwan, Hong Kong, United States, China', 'Germany, Australia',\n",
              "       'United Kingdom, Poland, United States',\n",
              "       'United Kingdom, South Africa',\n",
              "       'Finland, Sweden, Norway, Latvia, Germany',\n",
              "       'South Africa, United States, New Zealand, Canada',\n",
              "       'United States, Italy, United Kingdom, Liechtenstein',\n",
              "       'Denmark, France, Belgium, Italy, Netherlands, United States, United Kingdom',\n",
              "       'United States, Australia, Mexico',\n",
              "       'United Kingdom, Czech Republic, Germany, United States',\n",
              "       'France, China, Japan, United States', 'Germany, Belgium',\n",
              "       'Pakistan, Norway, United States',\n",
              "       'United States, Canada, Belgium, United Kingdom', 'Venezuela',\n",
              "       'Canada, Spain, France', 'United States, Indonesia',\n",
              "       'Spain, France, Italy',\n",
              "       'United Arab Emirates, United States, United Kingdom',\n",
              "       'United States, Brazil', 'United States, France, Mexico',\n",
              "       'United States, Nicaragua',\n",
              "       'France, United Kingdom, United States',\n",
              "       'United Kingdom, United States, Spain, Germany, Greece, Canada',\n",
              "       'Italy, Canada, France', 'Thailand, United States',\n",
              "       'United Kingdom, Denmark, Canada, Croatia',\n",
              "       'United States, France, United Kingdom, Japan',\n",
              "       'United States, United Kingdom, Denmark, Sweden',\n",
              "       'United States, United Kingdom, Italy',\n",
              "       'United States, France, Canada, Spain',\n",
              "       'Russia, United States, China', 'United States, Canada, Germany',\n",
              "       'Ireland, United States', 'United States, United Arab Emirates',\n",
              "       'United States, Ireland', 'Poland,',\n",
              "       'Slovenia, Croatia, Germany, Czech Republic, Qatar',\n",
              "       'United States, Spain, Germany', 'India, Japan',\n",
              "       'United Kingdom, France, Belgium',\n",
              "       'Canada, Ireland, United States',\n",
              "       'United Kingdom, United States, Dominican Republic',\n",
              "       'Germany, United Kingdom, United States',\n",
              "       'South Africa, Germany, Netherlands, France',\n",
              "       'Ireland, United States, France', 'Germany, United States, Canada',\n",
              "       'United Kingdom, Germany, Canada, United States',\n",
              "       'United States, France, Canada, Lebanon, Qatar',\n",
              "       'Netherlands, Belgium, United Kingdom, United States',\n",
              "       'France, Belgium, China, United States',\n",
              "       'United States, Chile, Israel',\n",
              "       'United Kingdom, Norway, Denmark, Germany, Sweden',\n",
              "       'Norway, Denmark, Sweden', 'China, India, Nepal',\n",
              "       'Colombia, Mexico, United States', 'United Kingdom, South Korea',\n",
              "       'United States, Greece, Brazil', 'Germany, United Kingdom',\n",
              "       'Argentina, Chile, Peru', 'Poland, West Germany', 'Canada, Spain',\n",
              "       'United States, Cambodia', 'United States, Greece',\n",
              "       'Norway, United Kingdom, France, Ireland',\n",
              "       'United Kingdom, Poland', 'Pakistan, United States',\n",
              "       'Israel, Sweden, Germany, Netherlands', 'Switzerland, France',\n",
              "       'Chile, Argentina, France, Spain, United States',\n",
              "       'United States, India, South Korea, China',\n",
              "       'Denmark, Germany, Belgium, United Kingdom, France',\n",
              "       'Denmark, Germany, Belgium, United Kingdom, France, Sweden',\n",
              "       'France, Switzerland, Spain, United States, United Arab Emirates',\n",
              "       'Brazil, India, China, United States',\n",
              "       'Denmark, France, United States, Sweden', 'Australia, Iraq',\n",
              "       'China, Morocco, Hong Kong', 'Canada, United States, Germany',\n",
              "       'United Kingdom, Thailand',\n",
              "       'France, Germany, Czech Republic, Belgium',\n",
              "       'Switzerland, Vatican City, Italy, Germany, France',\n",
              "       'Portugal, France, Poland, United States', 'India, Switzerland',\n",
              "       'Canada, India', 'United States, Morocco',\n",
              "       'Singapore, Japan, France',\n",
              "       'Canada, Mexico, Germany, South Africa',\n",
              "       'United Kingdom, United States, Canada',\n",
              "       'Germany, France, United States, Canada, United Kingdom',\n",
              "       'India, Canada', 'Ireland, Canada, United Kingdom, United States',\n",
              "       'United States, Germany, Australia', 'Australia, France, Ireland',\n",
              "       'Australia, India', 'United States, United Kingdom, Canada, Japan',\n",
              "       'Sweden, United Kingdom, Finland', 'Hong Kong, Taiwan',\n",
              "       'United States, United Kingdom, Spain, South Korea', 'Guatemala',\n",
              "       'United States, Germany, United Kingdom, Australia',\n",
              "       'Italy, France, Switzerland', 'Canada, France, United States',\n",
              "       'Switzerland, United States', 'Thailand, Canada, United States',\n",
              "       'China, Hong Kong, United States', 'United Kingdom, New Zealand',\n",
              "       'Czech Republic, United Kingdom, France',\n",
              "       'Australia, United Kingdom, Canada', 'Jamaica, United States',\n",
              "       'Australia, United Kingdom',\n",
              "       'United Kingdom, France, Canada, Belgium, United States',\n",
              "       'Denmark, United Kingdom, Sweden', 'United States, Hong Kong',\n",
              "       'Argentina, France, United States, Germany, Qatar',\n",
              "       'United States, Germany, United Kingdom',\n",
              "       'United States, Germany, United Kingdom, Italy',\n",
              "       'United States, New Zealand, United Kingdom',\n",
              "       'Finland, United States', 'Spain, France, Uruguay',\n",
              "       'France, Canada, United States', 'United States, Canada, China',\n",
              "       'Ireland, Canada, Luxembourg, United States, United Kingdom, Philippines, India',\n",
              "       'United States, Czech Republic, United Kingdom', 'Israel, Germany',\n",
              "       'Mexico, France',\n",
              "       'Israel, Germany, Poland, Luxembourg, Belgium, France, United States',\n",
              "       'Austria, United States', 'United Kingdom, Lithuania',\n",
              "       'United States, Greece, United Kingdom',\n",
              "       'United Kingdom, China, United States, India',\n",
              "       'United States, Sweden, Norway',\n",
              "       'United Kingdom, United States, Morocco',\n",
              "       'United States, United Kingdom, Morocco',\n",
              "       'Spain, Canada, United States',\n",
              "       'United States, India, United Arab Emirates',\n",
              "       'United Kingdom, Canada, France, United States',\n",
              "       'Belgium, Ireland, Netherlands, Germany, Afghanistan',\n",
              "       'France, Canada, Italy, United States, China',\n",
              "       'Ireland, United Kingdom, Greece, France, Netherlands',\n",
              "       'New Zealand, United States',\n",
              "       'United States, Australia, South Africa, United Kingdom',\n",
              "       'United States, Germany, Mexico', 'United States, Czech Republic',\n",
              "       'Somalia, Kenya, Sudan, South Africa, United States',\n",
              "       'United States, Canada, Japan, Panama',\n",
              "       'United Kingdom, Spain, Belgium', 'Serbia, South Korea, Slovenia',\n",
              "       'Denmark, United Kingdom, South Africa, Sweden, Belgium',\n",
              "       'Germany, Canada, United States',\n",
              "       'New Zealand, United Kingdom, Australia',\n",
              "       'United Kingdom, Australia, Canada, United States',\n",
              "       'United Kingdom, China, United States',\n",
              "       'United Kingdom, Brazil, Germany',\n",
              "       'Canada, United States, India, United Kingdom',\n",
              "       'Switzerland, United Kingdom, United States',\n",
              "       'United States, United Kingdom, Germany',\n",
              "       'United Kingdom, India, Sweden', 'United States, Argentina',\n",
              "       'Germany, United States, United Kingdom, Canada',\n",
              "       'United States, East Germany, West Germany',\n",
              "       'Egypt, Austria, United States',\n",
              "       'Croatia, Slovenia, Serbia, Montenegro',\n",
              "       'United Arab Emirates, Jordan'], dtype=object)"
            ]
          },
          "metadata": {},
          "execution_count": 27
        }
      ]
    },
    {
      "cell_type": "code",
      "source": [
        "netflix['country'].value_counts()"
      ],
      "metadata": {
        "colab": {
          "base_uri": "https://localhost:8080/"
        },
        "id": "_yN8sy9UVi5o",
        "outputId": "ae577643-bf36-439b-9817-e5ae3232a0dc"
      },
      "execution_count": null,
      "outputs": [
        {
          "output_type": "execute_result",
          "data": {
            "text/plain": [
              "United States                                   1846\n",
              "India                                            875\n",
              "United Kingdom                                   183\n",
              "Canada                                           107\n",
              "Spain                                             91\n",
              "                                                ... \n",
              "Uruguay, Guatemala                                 1\n",
              "Romania, Bulgaria, Hungary                         1\n",
              "Philippines, United States                         1\n",
              "India, United Kingdom, Canada, United States       1\n",
              "United Arab Emirates, Jordan                       1\n",
              "Name: country, Length: 604, dtype: int64"
            ]
          },
          "metadata": {},
          "execution_count": 28
        }
      ]
    },
    {
      "cell_type": "code",
      "source": [
        "netflix['country'].value_counts().head(10).plot(kind = 'bar', color = 'maroon')\n",
        "plt.title('Top 10 Country')\n",
        "plt.xlabel('Country')\n",
        "plt.ylabel('Count')"
      ],
      "metadata": {
        "colab": {
          "base_uri": "https://localhost:8080/",
          "height": 383
        },
        "id": "tJg3_07zWlmL",
        "outputId": "0066ed47-2bc2-415b-e7aa-ff9f3032959c"
      },
      "execution_count": null,
      "outputs": [
        {
          "output_type": "execute_result",
          "data": {
            "text/plain": [
              "Text(0, 0.5, 'Count')"
            ]
          },
          "metadata": {},
          "execution_count": 33
        },
        {
          "output_type": "display_data",
          "data": {
            "text/plain": [
              "<Figure size 432x288 with 1 Axes>"
            ],
            "image/png": "[encoded data removed]"
          },
          "metadata": {
            "needs_background": "light"
          }
        }
      ]
    },
    {
      "cell_type": "markdown",
      "metadata": {
        "id": "gzcgVNaoxtv5"
      },
      "source": [
        "TOP 10 Director"
      ]
    },
    {
      "cell_type": "code",
      "execution_count": null,
      "metadata": {
        "colab": {
          "base_uri": "https://localhost:8080/"
        },
        "id": "OzmyI3WUx1yO",
        "outputId": "9b55f337-265d-40b6-c79d-27f4286ed08b"
      },
      "outputs": [
        {
          "output_type": "execute_result",
          "data": {
            "text/plain": [
              "Raúl Campos, Jan Suter    18\n",
              "Marcus Raboy              15\n",
              "Jay Karas                 14\n",
              "Cathy Garcia-Molina       13\n",
              "Martin Scorsese           12\n",
              "Youssef Chahine           12\n",
              "Jay Chapman               12\n",
              "Steven Spielberg          11\n",
              "Don Michael Paul          10\n",
              "David Dhawan               9\n",
              "Name: director, dtype: int64"
            ]
          },
          "metadata": {},
          "execution_count": 34
        }
      ],
      "source": [
        "netflix['director'].value_counts().head(10)"
      ]
    },
    {
      "cell_type": "markdown",
      "metadata": {
        "id": "xvYWNgjnszhw"
      },
      "source": [
        "Genre"
      ]
    },
    {
      "cell_type": "code",
      "execution_count": null,
      "metadata": {
        "colab": {
          "base_uri": "https://localhost:8080/"
        },
        "id": "YzYDZmjvs1vF",
        "outputId": "fe18d7eb-11b2-426e-f4ef-a515437c785e"
      },
      "outputs": [
        {
          "output_type": "execute_result",
          "data": {
            "text/plain": [
              "array(['Dramas, Independent Movies, International Movies',\n",
              "       'British TV Shows, Reality TV', 'Comedies, Dramas',\n",
              "       'Dramas, International Movies',\n",
              "       'Comedies, International Movies, Romantic Movies', 'Comedies',\n",
              "       'Horror Movies, Sci-Fi & Fantasy', 'Thrillers',\n",
              "       'Action & Adventure, Dramas',\n",
              "       'Action & Adventure, Classic Movies, Dramas',\n",
              "       'Dramas, Horror Movies, Thrillers',\n",
              "       'Action & Adventure, Horror Movies, Thrillers',\n",
              "       'Action & Adventure', 'Dramas, Thrillers',\n",
              "       'Action & Adventure, Anime Features, International Movies',\n",
              "       'Action & Adventure, Comedies, Dramas',\n",
              "       'Sci-Fi & Fantasy, Thrillers',\n",
              "       'Children & Family Movies, Comedies',\n",
              "       'Documentaries, Music & Musicals',\n",
              "       'Children & Family Movies, Dramas',\n",
              "       'Dramas, International Movies, Thrillers',\n",
              "       'Dramas, Romantic Movies', 'Comedies, Dramas, Independent Movies',\n",
              "       'Dramas, International Movies, Romantic Movies', 'Dramas',\n",
              "       'Action & Adventure, Classic Movies, Cult Movies',\n",
              "       'Action & Adventure, Sci-Fi & Fantasy',\n",
              "       'Action & Adventure, Comedies', 'Classic Movies, Comedies, Dramas',\n",
              "       'Comedies, Cult Movies', 'Comedies, Cult Movies, Music & Musicals',\n",
              "       'Comedies, Music & Musicals',\n",
              "       'Action & Adventure, International Movies',\n",
              "       'Action & Adventure, Children & Family Movies, Cult Movies',\n",
              "       'Comedies, Dramas, Romantic Movies', 'Comedies, Romantic Movies',\n",
              "       'Comedies, Dramas, International Movies',\n",
              "       'Comedies, Cult Movies, Sci-Fi & Fantasy',\n",
              "       'Classic Movies, Dramas',\n",
              "       'Action & Adventure, Children & Family Movies, Comedies',\n",
              "       'Dramas, Faith & Spirituality', 'Documentaries, LGBTQ Movies',\n",
              "       'Action & Adventure, Classic Movies',\n",
              "       'Comedies, International Movies', 'Dramas, Independent Movies',\n",
              "       'Action & Adventure, Comedies, International Movies',\n",
              "       'Crime TV Shows, International TV Shows, TV Dramas',\n",
              "       'Action & Adventure, Horror Movies, International Movies',\n",
              "       'Comedies, International Movies, Music & Musicals',\n",
              "       'Comedies, International Movies, Sci-Fi & Fantasy',\n",
              "       'Action & Adventure, International Movies, Music & Musicals',\n",
              "       'Dramas, International Movies, Music & Musicals',\n",
              "       'Horror Movies, International Movies',\n",
              "       'Action & Adventure, Dramas, International Movies',\n",
              "       'Dramas, Independent Movies, Romantic Movies', 'Horror Movies',\n",
              "       'Comedies, Independent Movies',\n",
              "       'Classic Movies, Dramas, Independent Movies',\n",
              "       'International TV Shows, Romantic TV Shows, Spanish-Language TV Shows',\n",
              "       'Stand-Up Comedy',\n",
              "       'Action & Adventure, Anime Features, Children & Family Movies',\n",
              "       'TV Shows',\n",
              "       'Horror Movies, Independent Movies, International Movies',\n",
              "       'Children & Family Movies, Music & Musicals',\n",
              "       'Comedies, Cult Movies, International Movies', 'Documentaries',\n",
              "       'Classic Movies, Dramas, International Movies', 'Movies',\n",
              "       'International TV Shows, Romantic TV Shows, TV Comedies',\n",
              "       'Children & Family Movies, Comedies, Sci-Fi & Fantasy',\n",
              "       'Action & Adventure, Horror Movies, Sci-Fi & Fantasy',\n",
              "       'Classic Movies, Comedies, Cult Movies',\n",
              "       'Action & Adventure, Sci-Fi & Fantasy, Thrillers',\n",
              "       'Children & Family Movies, Comedies, Dramas',\n",
              "       'Dramas, Sports Movies',\n",
              "       'Action & Adventure, Dramas, Sci-Fi & Fantasy',\n",
              "       'Action & Adventure, Comedies, Cult Movies',\n",
              "       'Dramas, Independent Movies, Thrillers',\n",
              "       'Crime TV Shows, TV Action & Adventure, TV Sci-Fi & Fantasy',\n",
              "       'Children & Family Movies, Sports Movies',\n",
              "       'Children & Family Movies',\n",
              "       'Action & Adventure, Dramas, Romantic Movies',\n",
              "       'Children & Family Movies, Comedies, Sports Movies',\n",
              "       'International Movies, Romantic Movies',\n",
              "       'International Movies, Romantic Movies, Thrillers',\n",
              "       'Action & Adventure, Cult Movies, International Movies',\n",
              "       'Horror Movies, International Movies, Thrillers',\n",
              "       'Action & Adventure, Comedies, Sci-Fi & Fantasy',\n",
              "       'Action & Adventure, Thrillers',\n",
              "       'Dramas, Faith & Spirituality, International Movies',\n",
              "       'Action & Adventure, Classic Movies, Comedies',\n",
              "       'Action & Adventure, Comedies, Sports Movies',\n",
              "       'Action & Adventure, Children & Family Movies, Classic Movies',\n",
              "       'Action & Adventure, Children & Family Movies, Dramas',\n",
              "       'Horror Movies, Thrillers', 'Action & Adventure, Romantic Movies',\n",
              "       'Dramas, Romantic Movies, Sci-Fi & Fantasy',\n",
              "       'Dramas, Music & Musicals, Romantic Movies',\n",
              "       'Documentaries, International Movies',\n",
              "       'International Movies, Music & Musicals, Romantic Movies',\n",
              "       'Crime TV Shows, TV Dramas, TV Mysteries',\n",
              "       'British TV Shows, Docuseries',\n",
              "       'Documentaries, International Movies, Sports Movies', 'Reality TV',\n",
              "       'Children & Family Movies, Dramas, International Movies',\n",
              "       'Anime Series, Crime TV Shows, TV Horror',\n",
              "       'Comedies, Horror Movies', 'International Movies, Thrillers',\n",
              "       'Romantic TV Shows, TV Comedies, TV Dramas',\n",
              "       'Documentaries, International Movies, Music & Musicals',\n",
              "       'Dramas, Faith & Spirituality, Romantic Movies',\n",
              "       'Dramas, Independent Movies, LGBTQ Movies',\n",
              "       'Comedies, Independent Movies, LGBTQ Movies',\n",
              "       'Action & Adventure, Cult Movies, Sci-Fi & Fantasy',\n",
              "       'Cult Movies, Horror Movies',\n",
              "       'Action & Adventure, Dramas, Sports Movies',\n",
              "       'Anime Series, Romantic TV Shows, Teen TV Shows',\n",
              "       'Dramas, Romantic Movies, Thrillers',\n",
              "       'Children & Family Movies, Dramas, Faith & Spirituality',\n",
              "       'Dramas, International Movies, Sports Movies',\n",
              "       'Action & Adventure, Horror Movies',\n",
              "       'Dramas, Independent Movies, Sci-Fi & Fantasy',\n",
              "       'Comedies, Independent Movies, International Movies', 'TV Dramas',\n",
              "       'Independent Movies, International Movies, Thrillers',\n",
              "       'Independent Movies, Thrillers', 'Documentaries, Dramas',\n",
              "       'Action & Adventure, Sports Movies',\n",
              "       'Dramas, International Movies, Sci-Fi & Fantasy',\n",
              "       'Comedies, Independent Movies, Romantic Movies',\n",
              "       'Children & Family Movies, Comedies, Music & Musicals',\n",
              "       'Horror Movies, Romantic Movies, Sci-Fi & Fantasy',\n",
              "       'Action & Adventure, Anime Features, Horror Movies', 'Docuseries',\n",
              "       'Dramas, International Movies, LGBTQ Movies',\n",
              "       'Cult Movies, Dramas, Music & Musicals',\n",
              "       'International TV Shows, TV Dramas, Teen TV Shows',\n",
              "       'Comedies, Horror Movies, International Movies',\n",
              "       'Comedies, International Movies, Sports Movies',\n",
              "       'Classic Movies, Music & Musicals',\n",
              "       'Children & Family Movies, Faith & Spirituality, Music & Musicals',\n",
              "       'International TV Shows, Korean TV Shows, Stand-Up Comedy & Talk Shows',\n",
              "       'Dramas, Music & Musicals', 'Horror Movies, Independent Movies',\n",
              "       'Crime TV Shows, International TV Shows, TV Action & Adventure',\n",
              "       'Comedies, Dramas, Music & Musicals',\n",
              "       'Comedies, LGBTQ Movies, Thrillers',\n",
              "       'International TV Shows, TV Dramas',\n",
              "       'Children & Family Movies, Sci-Fi & Fantasy',\n",
              "       'Comedies, International Movies, LGBTQ Movies',\n",
              "       'Dramas, Sci-Fi & Fantasy',\n",
              "       'British TV Shows, Romantic TV Shows, TV Dramas',\n",
              "       'Anime Series, International TV Shows, Spanish-Language TV Shows',\n",
              "       'Comedies, Romantic Movies, Sports Movies',\n",
              "       'Children & Family Movies, Dramas, Sports Movies',\n",
              "       'Action & Adventure, Dramas, Independent Movies', \"Kids' TV\",\n",
              "       'Dramas, LGBTQ Movies',\n",
              "       'Action & Adventure, Dramas, Faith & Spirituality',\n",
              "       'Action & Adventure, Comedies, Independent Movies',\n",
              "       'Music & Musicals', 'Stand-Up Comedy & Talk Shows, TV Comedies',\n",
              "       'Docuseries, International TV Shows',\n",
              "       'Dramas, Independent Movies, Sports Movies',\n",
              "       'Comedies, LGBTQ Movies, Music & Musicals',\n",
              "       'International TV Shows, TV Dramas, TV Horror',\n",
              "       'Comedies, International Movies, Thrillers',\n",
              "       'Children & Family Movies, Documentaries',\n",
              "       'Music & Musicals, Romantic Movies', 'Romantic Movies',\n",
              "       'Children & Family Movies, Classic Movies, Comedies',\n",
              "       'Crime TV Shows, International TV Shows, Spanish-Language TV Shows',\n",
              "       'International TV Shows, Reality TV',\n",
              "       'Dramas, LGBTQ Movies, Romantic Movies',\n",
              "       'Children & Family Movies, Comedies, Romantic Movies',\n",
              "       'Comedies, Sports Movies',\n",
              "       'International TV Shows, Romantic TV Shows, TV Mysteries',\n",
              "       'Action & Adventure, International Movies, Romantic Movies',\n",
              "       'Cult Movies, Dramas, International Movies',\n",
              "       'International TV Shows, TV Dramas, TV Mysteries',\n",
              "       'Action & Adventure, Sci-Fi & Fantasy, Sports Movies',\n",
              "       'British TV Shows, International TV Shows, TV Dramas',\n",
              "       \"Kids' TV, TV Comedies\", 'Anime Features, International Movies',\n",
              "       \"British TV Shows, Classic & Cult TV, Kids' TV\",\n",
              "       'International TV Shows, TV Horror, TV Mysteries',\n",
              "       'LGBTQ Movies, Thrillers', 'Documentaries, Sports Movies',\n",
              "       'Children & Family Movies, Dramas, Independent Movies',\n",
              "       'Comedies, Music & Musicals, Romantic Movies',\n",
              "       'Anime Features, Children & Family Movies, International Movies',\n",
              "       'Anime Features, Children & Family Movies',\n",
              "       'TV Action & Adventure, TV Sci-Fi & Fantasy',\n",
              "       'Action & Adventure, International Movies, Sci-Fi & Fantasy',\n",
              "       'Classic & Cult TV, TV Action & Adventure, TV Horror',\n",
              "       'Action & Adventure, Comedies, Romantic Movies', 'TV Comedies',\n",
              "       'Children & Family Movies, Comedies, International Movies',\n",
              "       'International Movies, Sci-Fi & Fantasy',\n",
              "       'International Movies, Sci-Fi & Fantasy, Thrillers',\n",
              "       'International TV Shows, TV Action & Adventure, TV Comedies',\n",
              "       'International TV Shows, Spanish-Language TV Shows, TV Comedies',\n",
              "       'Children & Family Movies, Dramas, Romantic Movies',\n",
              "       'Comedies, Dramas, LGBTQ Movies',\n",
              "       'International TV Shows, Stand-Up Comedy & Talk Shows, TV Comedies',\n",
              "       'Children & Family Movies, Dramas, Music & Musicals',\n",
              "       'Action & Adventure, Independent Movies, International Movies',\n",
              "       'Action & Adventure, Children & Family Movies, Sci-Fi & Fantasy',\n",
              "       'Horror Movies, Independent Movies, Sci-Fi & Fantasy',\n",
              "       'Anime Features, International Movies, Sci-Fi & Fantasy',\n",
              "       'Dramas, Independent Movies, Music & Musicals',\n",
              "       'Children & Family Movies, Documentaries, Sports Movies',\n",
              "       'Independent Movies, Sci-Fi & Fantasy, Thrillers',\n",
              "       'Anime Features, Music & Musicals, Sci-Fi & Fantasy',\n",
              "       'International TV Shows, Korean TV Shows, TV Action & Adventure',\n",
              "       'Crime TV Shows, Docuseries',\n",
              "       'Crime TV Shows, TV Action & Adventure',\n",
              "       'Comedies, Faith & Spirituality, Romantic Movies',\n",
              "       \"Kids' TV, TV Action & Adventure\",\n",
              "       'Action & Adventure, Independent Movies',\n",
              "       'Crime TV Shows, Romantic TV Shows, TV Dramas',\n",
              "       'Anime Features, Romantic Movies',\n",
              "       'Horror Movies, Sci-Fi & Fantasy, Thrillers',\n",
              "       'Anime Series, International TV Shows',\n",
              "       'Anime Features, Music & Musicals',\n",
              "       'Anime Features, International Movies, Romantic Movies',\n",
              "       'International TV Shows, Korean TV Shows, Romantic TV Shows',\n",
              "       'Horror Movies, Independent Movies, Thrillers',\n",
              "       'Documentaries, Stand-Up Comedy',\n",
              "       'Crime TV Shows, TV Action & Adventure, TV Dramas',\n",
              "       'Dramas, Sci-Fi & Fantasy, Thrillers',\n",
              "       'British TV Shows, Crime TV Shows, International TV Shows',\n",
              "       'International TV Shows, TV Comedies, TV Dramas',\n",
              "       'International Movies, Music & Musicals',\n",
              "       'International TV Shows, TV Dramas, TV Thrillers',\n",
              "       'Children & Family Movies, Comedies, LGBTQ Movies',\n",
              "       'Horror Movies, International Movies, Romantic Movies',\n",
              "       'International Movies, Music & Musicals, Thrillers',\n",
              "       'Comedies, Horror Movies, Independent Movies',\n",
              "       'Action & Adventure, International Movies, Sports Movies',\n",
              "       'Action & Adventure, Independent Movies, Sci-Fi & Fantasy',\n",
              "       'Horror Movies, LGBTQ Movies, Music & Musicals',\n",
              "       'International TV Shows, Korean TV Shows, TV Dramas',\n",
              "       'International Movies, Romantic Movies, Sci-Fi & Fantasy',\n",
              "       'Music & Musicals, Stand-Up Comedy',\n",
              "       'British TV Shows, International TV Shows, TV Action & Adventure',\n",
              "       'Horror Movies, International Movies, Sci-Fi & Fantasy',\n",
              "       'Cult Movies, Horror Movies, Independent Movies',\n",
              "       'Comedies, Documentaries',\n",
              "       'Action & Adventure, Anime Features, Sci-Fi & Fantasy',\n",
              "       'Action & Adventure, Anime Features, Classic Movies',\n",
              "       'Dramas, Faith & Spirituality, Independent Movies',\n",
              "       'Documentaries, Faith & Spirituality',\n",
              "       'British TV Shows, International TV Shows, Stand-Up Comedy & Talk Shows',\n",
              "       'Comedies, Dramas, Faith & Spirituality',\n",
              "       'Anime Series, International TV Shows, TV Horror',\n",
              "       \"Anime Series, Kids' TV\", 'Dramas, Romantic Movies, Sports Movies',\n",
              "       'Comedies, Independent Movies, Music & Musicals',\n",
              "       'Stand-Up Comedy & Talk Shows',\n",
              "       'Crime TV Shows, International TV Shows, Korean TV Shows',\n",
              "       'Documentaries, International Movies, LGBTQ Movies',\n",
              "       'Comedies, Cult Movies, Independent Movies',\n",
              "       'British TV Shows, TV Comedies',\n",
              "       'Documentaries, Dramas, International Movies',\n",
              "       'Children & Family Movies, Comedies, Cult Movies',\n",
              "       'TV Horror, TV Mysteries, TV Thrillers', 'Sci-Fi & Fantasy',\n",
              "       'Comedies, LGBTQ Movies',\n",
              "       'Comedies, Independent Movies, Thrillers',\n",
              "       'Classic Movies, Cult Movies, Dramas',\n",
              "       'Action & Adventure, Children & Family Movies, Independent Movies',\n",
              "       'Action & Adventure, Documentaries, International Movies',\n",
              "       'Children & Family Movies, Independent Movies',\n",
              "       'Comedies, Cult Movies, Dramas', 'Classic Movies, Thrillers',\n",
              "       'Documentaries, LGBTQ Movies, Music & Musicals',\n",
              "       'Classic Movies, Dramas, Romantic Movies',\n",
              "       'Crime TV Shows, Romantic TV Shows, Spanish-Language TV Shows',\n",
              "       'Classic Movies, Cult Movies, Horror Movies',\n",
              "       'Action & Adventure, International Movies, Thrillers',\n",
              "       'Children & Family Movies, Classic Movies',\n",
              "       'Classic Movies, Comedies, International Movies',\n",
              "       'Comedies, Sci-Fi & Fantasy',\n",
              "       'Action & Adventure, Cult Movies, Dramas',\n",
              "       'Documentaries, Faith & Spirituality, Music & Musicals',\n",
              "       'International Movies, Sports Movies',\n",
              "       'Children & Family Movies, Comedies, Faith & Spirituality',\n",
              "       'British TV Shows, Crime TV Shows, TV Dramas',\n",
              "       'Classic Movies, Dramas, Music & Musicals',\n",
              "       'Cult Movies, Horror Movies, Thrillers',\n",
              "       'Action & Adventure, Classic Movies, Sci-Fi & Fantasy',\n",
              "       'British TV Shows, Docuseries, International TV Shows',\n",
              "       'Classic Movies, Comedies, Music & Musicals', 'Independent Movies',\n",
              "       'Comedies, Faith & Spirituality, International Movies',\n",
              "       'Dramas, Horror Movies, Sci-Fi & Fantasy',\n",
              "       'British TV Shows, TV Dramas, TV Sci-Fi & Fantasy',\n",
              "       'Comedies, Cult Movies, Horror Movies',\n",
              "       'Comedies, Cult Movies, Sports Movies',\n",
              "       'Classic Movies, Documentaries',\n",
              "       'Action & Adventure, Faith & Spirituality, Sci-Fi & Fantasy',\n",
              "       'Children & Family Movies, Documentaries, International Movies',\n",
              "       'Docuseries, Science & Nature TV, TV Dramas', 'Anime Features',\n",
              "       'Action & Adventure, Horror Movies, Independent Movies',\n",
              "       'Action & Adventure, Children & Family Movies',\n",
              "       'Action & Adventure, Classic Movies, International Movies',\n",
              "       'Cult Movies, Independent Movies, Thrillers',\n",
              "       'Classic Movies, Dramas, LGBTQ Movies',\n",
              "       'Documentaries, Faith & Spirituality, International Movies',\n",
              "       'Classic Movies, Dramas, Sports Movies',\n",
              "       'Action & Adventure, Cult Movies', \"British TV Shows, Kids' TV\",\n",
              "       'Action & Adventure, Comedies, Music & Musicals',\n",
              "       'Classic Movies, Horror Movies, Thrillers',\n",
              "       'TV Comedies, TV Dramas',\n",
              "       'International TV Shows, Romantic TV Shows, TV Dramas',\n",
              "       'Classic Movies, Comedies, Independent Movies',\n",
              "       'Children & Family Movies, Classic Movies, Dramas',\n",
              "       'Dramas, Faith & Spirituality, Sports Movies',\n",
              "       'Classic Movies, Comedies, Romantic Movies',\n",
              "       'Dramas, Horror Movies, Music & Musicals',\n",
              "       'Classic Movies, Independent Movies, Thrillers',\n",
              "       'Children & Family Movies, Faith & Spirituality',\n",
              "       'Classic Movies, Comedies, Sports Movies',\n",
              "       'Comedies, Dramas, Sports Movies',\n",
              "       'Action & Adventure, Romantic Movies, Sci-Fi & Fantasy',\n",
              "       'Comedies, Cult Movies, LGBTQ Movies',\n",
              "       'British TV Shows, Classic & Cult TV, TV Comedies',\n",
              "       'Comedies, Horror Movies, Sci-Fi & Fantasy',\n",
              "       'Action & Adventure, Comedies, Horror Movies',\n",
              "       'Action & Adventure, Documentaries, Sports Movies',\n",
              "       'International Movies, LGBTQ Movies, Romantic Movies',\n",
              "       'Cult Movies, Dramas, Thrillers'], dtype=object)"
            ]
          },
          "metadata": {},
          "execution_count": 35
        }
      ],
      "source": [
        "netflix['listed_in'].unique()"
      ]
    },
    {
      "cell_type": "code",
      "source": [
        "netflix['listed_in'].value_counts().head(10).plot(kind = 'barh', color = 'yellow')\n",
        "plt.title('Top 10 Genre on netflix')"
      ],
      "metadata": {
        "colab": {
          "base_uri": "https://localhost:8080/",
          "height": 298
        },
        "id": "7kcUHP_ZaHdC",
        "outputId": "a50eebf1-11b4-4f78-adc5-5feb896dc48f"
      },
      "execution_count": null,
      "outputs": [
        {
          "output_type": "execute_result",
          "data": {
            "text/plain": [
              "Text(0.5, 1.0, 'Top 10 Genre on netflix')"
            ]
          },
          "metadata": {},
          "execution_count": 39
        },
        {
          "output_type": "display_data",
          "data": {
            "text/plain": [
              "<Figure size 432x288 with 1 Axes>"
            ],
            "image/png": "[encoded data removed]"
          },
          "metadata": {
            "needs_background": "light"
          }
        }
      ]
    },
    {
      "cell_type": "code",
      "source": [
        "netflix['listed_in'].value_counts().head(10)"
      ],
      "metadata": {
        "colab": {
          "base_uri": "https://localhost:8080/"
        },
        "id": "r6ynIBp92LCf",
        "outputId": "92a64860-f506-4f42-fadf-79f7d7fa8a5f"
      },
      "execution_count": null,
      "outputs": [
        {
          "output_type": "execute_result",
          "data": {
            "text/plain": [
              "Dramas, International Movies                        336\n",
              "Stand-Up Comedy                                     286\n",
              "Comedies, Dramas, International Movies              257\n",
              "Dramas, Independent Movies, International Movies    243\n",
              "Children & Family Movies, Comedies                  179\n",
              "Dramas, International Movies, Romantic Movies       160\n",
              "Documentaries                                       156\n",
              "Comedies, International Movies                      152\n",
              "Comedies, International Movies, Romantic Movies     143\n",
              "Dramas                                              133\n",
              "Name: listed_in, dtype: int64"
            ]
          },
          "metadata": {},
          "execution_count": 99
        }
      ]
    },
    {
      "cell_type": "markdown",
      "metadata": {
        "id": "AwREEq6ttuck"
      },
      "source": [
        "Counting Max and Min Duration"
      ]
    },
    {
      "cell_type": "code",
      "execution_count": null,
      "metadata": {
        "colab": {
          "base_uri": "https://localhost:8080/"
        },
        "id": "GnRaaxRT_9gA",
        "outputId": "27c09a05-e9d7-42f5-c4ac-87a1239b8d83"
      },
      "outputs": [
        {
          "output_type": "execute_result",
          "data": {
            "text/plain": [
              "array(['125 min', '9 Seasons', '104 min', '127 min', '166 min', '103 min',\n",
              "       '97 min', '106 min', '96 min', '124 min', '116 min', '98 min',\n",
              "       '91 min', '115 min', '122 min', '99 min', '88 min', '100 min',\n",
              "       '102 min', '93 min', '95 min', '85 min', '83 min', '182 min',\n",
              "       '147 min', '90 min', '128 min', '143 min', '119 min', '114 min',\n",
              "       '118 min', '108 min', '117 min', '121 min', '142 min', '113 min',\n",
              "       '154 min', '120 min', '82 min', '94 min', '109 min', '101 min',\n",
              "       '105 min', '86 min', '229 min', '76 min', '89 min', '110 min',\n",
              "       '156 min', '112 min', '129 min', '107 min', '1 Season', '135 min',\n",
              "       '136 min', '165 min', '150 min', '133 min', '145 min', '92 min',\n",
              "       '2 Seasons', '64 min', '59 min', '111 min', '87 min', '148 min',\n",
              "       '189 min', '141 min', '130 min', '7 Seasons', '68 min', '131 min',\n",
              "       '126 min', '155 min', '123 min', '84 min', '4 Seasons', '13 min',\n",
              "       '77 min', '74 min', '49 min', '72 min', '78 min', '70 min',\n",
              "       '132 min', '140 min', '81 min', '138 min', '149 min', '15 min',\n",
              "       '224 min', '162 min', '60 min', '65 min', '137 min', '75 min',\n",
              "       '32 min', '158 min', '164 min', '173 min', '181 min', '73 min',\n",
              "       '6 Seasons', '24 min', '80 min', '139 min', '151 min', '22 min',\n",
              "       '134 min', '58 min', '52 min', '71 min', '161 min', '53 min',\n",
              "       '8 min', '46 min', '57 min', '28 min', '66 min', '50 min',\n",
              "       '79 min', '26 min', '54 min', '48 min', '45 min', '171 min',\n",
              "       '42 min', '27 min', '51 min', '69 min', '47 min', '33 min',\n",
              "       '44 min', '29 min', '146 min', '61 min', '63 min', '157 min',\n",
              "       '203 min', '25 min', '30 min', '62 min', '194 min', '55 min',\n",
              "       '5 Seasons', '15 Seasons', '177 min', '237 min', '195 min',\n",
              "       '253 min', '152 min', '67 min', '190 min', '160 min', '208 min',\n",
              "       '180 min', '144 min', '174 min', '170 min', '192 min', '209 min',\n",
              "       '187 min', '185 min', '172 min', '186 min', '8 Seasons', '193 min',\n",
              "       '176 min', '17 min', '56 min', '169 min', '40 min', '20 min',\n",
              "       '12 min', '168 min', '153 min', '159 min', '214 min', '31 min',\n",
              "       '163 min', '14 min', '179 min', '38 min', '23 min', '3 Seasons',\n",
              "       '43 min', '200 min', '196 min', '167 min', '41 min', '37 min',\n",
              "       '35 min', '178 min', '228 min', '18 min', '205 min', '201 min',\n",
              "       '191 min'], dtype=object)"
            ]
          },
          "metadata": {},
          "execution_count": 44
        }
      ],
      "source": [
        "netflix['duration'].unique()"
      ]
    },
    {
      "cell_type": "code",
      "source": [
        "netflix.head()"
      ],
      "metadata": {
        "colab": {
          "base_uri": "https://localhost:8080/",
          "height": 563
        },
        "id": "npFvKLiVz51f",
        "outputId": "b1f6fe52-b526-4a04-e3b6-fdfc88260161"
      },
      "execution_count": null,
      "outputs": [
        {
          "output_type": "execute_result",
          "data": {
            "text/plain": [
              "   show_id     type                          title             director  \\\n",
              "7       s8    Movie                        Sankofa         Haile Gerima   \n",
              "8       s9  TV Show  The Great British Baking Show      Andy Devonshire   \n",
              "9      s10    Movie                   The Starling       Theodore Melfi   \n",
              "12     s13    Movie                   Je Suis Karl  Christian Schwochow   \n",
              "24     s25    Movie                          Jeans           S. Shankar   \n",
              "\n",
              "                                                 cast  \\\n",
              "7   Kofi Ghanaba, Oyafunmike Ogunlano, Alexandra D...   \n",
              "8   Mel Giedroyc, Sue Perkins, Mary Berry, Paul Ho...   \n",
              "9   Melissa McCarthy, Chris O'Dowd, Kevin Kline, T...   \n",
              "12  Luna Wedler, Jannis Niewöhner, Milan Peschel, ...   \n",
              "24  Prashanth, Aishwarya Rai Bachchan, Sri Lakshmi...   \n",
              "\n",
              "                                              country          date_added  \\\n",
              "7   United States, Ghana, Burkina Faso, United Kin...  September 24, 2021   \n",
              "8                                      United Kingdom  September 24, 2021   \n",
              "9                                       United States  September 24, 2021   \n",
              "12                            Germany, Czech Republic  September 23, 2021   \n",
              "24                                              India  September 21, 2021   \n",
              "\n",
              "    release_year rating   duration  \\\n",
              "7           1993  TV-MA    125 min   \n",
              "8           2021  TV-14  9 Seasons   \n",
              "9           2021  PG-13    104 min   \n",
              "12          2021  TV-MA    127 min   \n",
              "24          1998  TV-14    166 min   \n",
              "\n",
              "                                           listed_in  \\\n",
              "7   Dramas, Independent Movies, International Movies   \n",
              "8                       British TV Shows, Reality TV   \n",
              "9                                   Comedies, Dramas   \n",
              "12                      Dramas, International Movies   \n",
              "24   Comedies, International Movies, Romantic Movies   \n",
              "\n",
              "                                          description date_netflix  \n",
              "7   On a photo shoot in Ghana, an American model s...   2021-09-24  \n",
              "8   A talented batch of amateur bakers face off in...   2021-09-24  \n",
              "9   A woman adjusting to life after a loss contend...   2021-09-24  \n",
              "12  After most of her family is murdered in a terr...   2021-09-23  \n",
              "24  When the father of the man she loves insists t...   2021-09-21  "
            ],
            "text/html": [
              "\n",
              "  <div id=\"df-42b69e69-923b-497a-be77-39cc368df8b1\">\n",
              "    <div class=\"colab-df-container\">\n",
              "      <div>\n",
              "<style scoped>\n",
              "    .dataframe tbody tr th:only-of-type {\n",
              "        vertical-align: middle;\n",
              "    }\n",
              "\n",
              "    .dataframe tbody tr th {\n",
              "        vertical-align: top;\n",
              "    }\n",
              "\n",
              "    .dataframe thead th {\n",
              "        text-align: right;\n",
              "    }\n",
              "</style>\n",
              "<table border=\"1\" class=\"dataframe\">\n",
              "  <thead>\n",
              "    <tr style=\"text-align: right;\">\n",
              "      <th></th>\n",
              "      <th>show_id</th>\n",
              "      <th>type</th>\n",
              "      <th>title</th>\n",
              "      <th>director</th>\n",
              "      <th>cast</th>\n",
              "      <th>country</th>\n",
              "      <th>date_added</th>\n",
              "      <th>release_year</th>\n",
              "      <th>rating</th>\n",
              "      <th>duration</th>\n",
              "      <th>listed_in</th>\n",
              "      <th>description</th>\n",
              "      <th>date_netflix</th>\n",
              "    </tr>\n",
              "  </thead>\n",
              "  <tbody>\n",
              "    <tr>\n",
              "      <th>7</th>\n",
              "      <td>s8</td>\n",
              "      <td>Movie</td>\n",
              "      <td>Sankofa</td>\n",
              "      <td>Haile Gerima</td>\n",
              "      <td>Kofi Ghanaba, Oyafunmike Ogunlano, Alexandra D...</td>\n",
              "      <td>United States, Ghana, Burkina Faso, United Kin...</td>\n",
              "      <td>September 24, 2021</td>\n",
              "      <td>1993</td>\n",
              "      <td>TV-MA</td>\n",
              "      <td>125 min</td>\n",
              "      <td>Dramas, Independent Movies, International Movies</td>\n",
              "      <td>On a photo shoot in Ghana, an American model s...</td>\n",
              "      <td>2021-09-24</td>\n",
              "    </tr>\n",
              "    <tr>\n",
              "      <th>8</th>\n",
              "      <td>s9</td>\n",
              "      <td>TV Show</td>\n",
              "      <td>The Great British Baking Show</td>\n",
              "      <td>Andy Devonshire</td>\n",
              "      <td>Mel Giedroyc, Sue Perkins, Mary Berry, Paul Ho...</td>\n",
              "      <td>United Kingdom</td>\n",
              "      <td>September 24, 2021</td>\n",
              "      <td>2021</td>\n",
              "      <td>TV-14</td>\n",
              "      <td>9 Seasons</td>\n",
              "      <td>British TV Shows, Reality TV</td>\n",
              "      <td>A talented batch of amateur bakers face off in...</td>\n",
              "      <td>2021-09-24</td>\n",
              "    </tr>\n",
              "    <tr>\n",
              "      <th>9</th>\n",
              "      <td>s10</td>\n",
              "      <td>Movie</td>\n",
              "      <td>The Starling</td>\n",
              "      <td>Theodore Melfi</td>\n",
              "      <td>Melissa McCarthy, Chris O'Dowd, Kevin Kline, T...</td>\n",
              "      <td>United States</td>\n",
              "      <td>September 24, 2021</td>\n",
              "      <td>2021</td>\n",
              "      <td>PG-13</td>\n",
              "      <td>104 min</td>\n",
              "      <td>Comedies, Dramas</td>\n",
              "      <td>A woman adjusting to life after a loss contend...</td>\n",
              "      <td>2021-09-24</td>\n",
              "    </tr>\n",
              "    <tr>\n",
              "      <th>12</th>\n",
              "      <td>s13</td>\n",
              "      <td>Movie</td>\n",
              "      <td>Je Suis Karl</td>\n",
              "      <td>Christian Schwochow</td>\n",
              "      <td>Luna Wedler, Jannis Niewöhner, Milan Peschel, ...</td>\n",
              "      <td>Germany, Czech Republic</td>\n",
              "      <td>September 23, 2021</td>\n",
              "      <td>2021</td>\n",
              "      <td>TV-MA</td>\n",
              "      <td>127 min</td>\n",
              "      <td>Dramas, International Movies</td>\n",
              "      <td>After most of her family is murdered in a terr...</td>\n",
              "      <td>2021-09-23</td>\n",
              "    </tr>\n",
              "    <tr>\n",
              "      <th>24</th>\n",
              "      <td>s25</td>\n",
              "      <td>Movie</td>\n",
              "      <td>Jeans</td>\n",
              "      <td>S. Shankar</td>\n",
              "      <td>Prashanth, Aishwarya Rai Bachchan, Sri Lakshmi...</td>\n",
              "      <td>India</td>\n",
              "      <td>September 21, 2021</td>\n",
              "      <td>1998</td>\n",
              "      <td>TV-14</td>\n",
              "      <td>166 min</td>\n",
              "      <td>Comedies, International Movies, Romantic Movies</td>\n",
              "      <td>When the father of the man she loves insists t...</td>\n",
              "      <td>2021-09-21</td>\n",
              "    </tr>\n",
              "  </tbody>\n",
              "</table>\n",
              "</div>\n",
              "      <button class=\"colab-df-convert\" onclick=\"convertToInteractive('df-42b69e69-923b-497a-be77-39cc368df8b1')\"\n",
              "              title=\"Convert this dataframe to an interactive table.\"\n",
              "              style=\"display:none;\">\n",
              "        \n",
              "  <svg xmlns=\"http://www.w3.org/2000/svg\" height=\"24px\"viewBox=\"0 0 24 24\"\n",
              "       width=\"24px\">\n",
              "    <path d=\"M0 0h24v24H0V0z\" fill=\"none\"/>\n",
              "    <path d=\"M18.56 5.44l.94 2.06.94-2.06 2.06-.94-2.06-.94-.94-2.06-.94 2.06-2.06.94zm-11 1L8.5 8.5l.94-2.06 2.06-.94-2.06-.94L8.5 2.5l-.94 2.06-2.06.94zm10 10l.94 2.06.94-2.06 2.06-.94-2.06-.94-.94-2.06-.94 2.06-2.06.94z\"/><path d=\"M17.41 7.96l-1.37-1.37c-.4-.4-.92-.59-1.43-.59-.52 0-1.04.2-1.43.59L10.3 9.45l-7.72 7.72c-.78.78-.78 2.05 0 2.83L4 21.41c.39.39.9.59 1.41.59.51 0 1.02-.2 1.41-.59l7.78-7.78 2.81-2.81c.8-.78.8-2.07 0-2.86zM5.41 20L4 18.59l7.72-7.72 1.47 1.35L5.41 20z\"/>\n",
              "  </svg>\n",
              "      </button>\n",
              "      \n",
              "  <style>\n",
              "    .colab-df-container {\n",
              "      display:flex;\n",
              "      flex-wrap:wrap;\n",
              "      gap: 12px;\n",
              "    }\n",
              "\n",
              "    .colab-df-convert {\n",
              "      background-color: #E8F0FE;\n",
              "      border: none;\n",
              "      border-radius: 50%;\n",
              "      cursor: pointer;\n",
              "      display: none;\n",
              "      fill: #1967D2;\n",
              "      height: 32px;\n",
              "      padding: 0 0 0 0;\n",
              "      width: 32px;\n",
              "    }\n",
              "\n",
              "    .colab-df-convert:hover {\n",
              "      background-color: #E2EBFA;\n",
              "      box-shadow: 0px 1px 2px rgba(60, 64, 67, 0.3), 0px 1px 3px 1px rgba(60, 64, 67, 0.15);\n",
              "      fill: #174EA6;\n",
              "    }\n",
              "\n",
              "    [theme=dark] .colab-df-convert {\n",
              "      background-color: #3B4455;\n",
              "      fill: #D2E3FC;\n",
              "    }\n",
              "\n",
              "    [theme=dark] .colab-df-convert:hover {\n",
              "      background-color: #434B5C;\n",
              "      box-shadow: 0px 1px 3px 1px rgba(0, 0, 0, 0.15);\n",
              "      filter: drop-shadow(0px 1px 2px rgba(0, 0, 0, 0.3));\n",
              "      fill: #FFFFFF;\n",
              "    }\n",
              "  </style>\n",
              "\n",
              "      <script>\n",
              "        const buttonEl =\n",
              "          document.querySelector('#df-42b69e69-923b-497a-be77-39cc368df8b1 button.colab-df-convert');\n",
              "        buttonEl.style.display =\n",
              "          google.colab.kernel.accessAllowed ? 'block' : 'none';\n",
              "\n",
              "        async function convertToInteractive(key) {\n",
              "          const element = document.querySelector('#df-42b69e69-923b-497a-be77-39cc368df8b1');\n",
              "          const dataTable =\n",
              "            await google.colab.kernel.invokeFunction('convertToInteractive',\n",
              "                                                     [key], {});\n",
              "          if (!dataTable) return;\n",
              "\n",
              "          const docLinkHtml = 'Like what you see? Visit the ' +\n",
              "            '<a target=\"_blank\" href=https://colab.research.google.com/notebooks/data_table.ipynb>data table notebook</a>'\n",
              "            + ' to learn more about interactive tables.';\n",
              "          element.innerHTML = '';\n",
              "          dataTable['output_type'] = 'display_data';\n",
              "          await google.colab.output.renderOutput(dataTable, element);\n",
              "          const docLink = document.createElement('div');\n",
              "          docLink.innerHTML = docLinkHtml;\n",
              "          element.appendChild(docLink);\n",
              "        }\n",
              "      </script>\n",
              "    </div>\n",
              "  </div>\n",
              "  "
            ]
          },
          "metadata": {},
          "execution_count": 45
        }
      ]
    },
    {
      "cell_type": "code",
      "source": [
        "netflix['duration'].max()"
      ],
      "metadata": {
        "colab": {
          "base_uri": "https://localhost:8080/",
          "height": 35
        },
        "id": "jeCiR7NlxLFt",
        "outputId": "80ad28cb-0760-46af-cbf6-7a50e7eba6d6"
      },
      "execution_count": null,
      "outputs": [
        {
          "output_type": "execute_result",
          "data": {
            "text/plain": [
              "'99 min'"
            ],
            "application/vnd.google.colaboratory.intrinsic+json": {
              "type": "string"
            }
          },
          "metadata": {},
          "execution_count": 46
        }
      ]
    },
    {
      "cell_type": "code",
      "source": [
        "netflix['duration'].min()"
      ],
      "metadata": {
        "colab": {
          "base_uri": "https://localhost:8080/",
          "height": 35
        },
        "id": "WDEZPye27Vjl",
        "outputId": "a9b71b8f-24ea-4923-929c-157873be57b1"
      },
      "execution_count": null,
      "outputs": [
        {
          "output_type": "execute_result",
          "data": {
            "text/plain": [
              "'1 Season'"
            ],
            "application/vnd.google.colaboratory.intrinsic+json": {
              "type": "string"
            }
          },
          "metadata": {},
          "execution_count": 47
        }
      ]
    },
    {
      "cell_type": "code",
      "source": [
        "netflix['duration'].head(10)"
      ],
      "metadata": {
        "colab": {
          "base_uri": "https://localhost:8080/"
        },
        "id": "HxwkfWnT7cEg",
        "outputId": "32a7011b-09b8-41b4-96f0-e874782ec8a3"
      },
      "execution_count": null,
      "outputs": [
        {
          "output_type": "execute_result",
          "data": {
            "text/plain": [
              "7       125 min\n",
              "8     9 Seasons\n",
              "9       104 min\n",
              "12      127 min\n",
              "24      166 min\n",
              "27      103 min\n",
              "28       97 min\n",
              "29      106 min\n",
              "38       96 min\n",
              "41      124 min\n",
              "Name: duration, dtype: object"
            ]
          },
          "metadata": {},
          "execution_count": 48
        }
      ]
    },
    {
      "cell_type": "code",
      "source": [
        "netflix.to_csv('netflix_new.csv')\n",
        "from google.colab import files\n",
        "files.download('netflix_new.csv')"
      ],
      "metadata": {
        "colab": {
          "base_uri": "https://localhost:8080/",
          "height": 17
        },
        "id": "CE3N-s8a7j9u",
        "outputId": "155a5ccd-445c-4868-f319-a0c9ce23faac"
      },
      "execution_count": null,
      "outputs": [
        {
          "output_type": "display_data",
          "data": {
            "text/plain": [
              "<IPython.core.display.Javascript object>"
            ],
            "application/javascript": [
              "\n",
              "    async function download(id, filename, size) {\n",
              "      if (!google.colab.kernel.accessAllowed) {\n",
              "        return;\n",
              "      }\n",
              "      const div = document.createElement('div');\n",
              "      const label = document.createElement('label');\n",
              "      label.textContent = `Downloading \"${filename}\": `;\n",
              "      div.appendChild(label);\n",
              "      const progress = document.createElement('progress');\n",
              "      progress.max = size;\n",
              "      div.appendChild(progress);\n",
              "      document.body.appendChild(div);\n",
              "\n",
              "      const buffers = [];\n",
              "      let downloaded = 0;\n",
              "\n",
              "      const channel = await google.colab.kernel.comms.open(id);\n",
              "      // Send a message to notify the kernel that we're ready.\n",
              "      channel.send({})\n",
              "\n",
              "      for await (const message of channel.messages) {\n",
              "        // Send a message to notify the kernel that we're ready.\n",
              "        channel.send({})\n",
              "        if (message.buffers) {\n",
              "          for (const buffer of message.buffers) {\n",
              "            buffers.push(buffer);\n",
              "            downloaded += buffer.byteLength;\n",
              "            progress.value = downloaded;\n",
              "          }\n",
              "        }\n",
              "      }\n",
              "      const blob = new Blob(buffers, {type: 'application/binary'});\n",
              "      const a = document.createElement('a');\n",
              "      a.href = window.URL.createObjectURL(blob);\n",
              "      a.download = filename;\n",
              "      div.appendChild(a);\n",
              "      a.click();\n",
              "      div.remove();\n",
              "    }\n",
              "  "
            ]
          },
          "metadata": {}
        },
        {
          "output_type": "display_data",
          "data": {
            "text/plain": [
              "<IPython.core.display.Javascript object>"
            ],
            "application/javascript": [
              "download(\"download_c0f63f1f-95fd-4c19-9aec-83ecdf8d5ab0\", \"netflix_new.csv\", 2220672)"
            ]
          },
          "metadata": {}
        }
      ]
    }
  ],
  "metadata": {
    "colab": {
      "collapsed_sections": [],
      "name": "Netflix TV Show and Movie.ipynb",
      "provenance": [],
      "authorship_tag": "ABX9TyPteLIAdqqWf4iw+0gkeAI9",
      "include_colab_link": true
    },
    "kernelspec": {
      "display_name": "Python 3",
      "name": "python3"
    },
    "language_info": {
      "name": "python"
    }
  },
  "nbformat": 4,
  "nbformat_minor": 0
}